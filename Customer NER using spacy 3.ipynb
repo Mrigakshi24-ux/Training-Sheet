{
 "cells": [
  {
   "cell_type": "code",
   "execution_count": 94,
   "id": "e1b5a979",
   "metadata": {},
   "outputs": [],
   "source": [
    "# installing spacy 3, and models\n",
    "# !pip install -U spacy\n",
    "# !python -m spacy download en_core_web_sm"
   ]
  },
  {
   "cell_type": "code",
   "execution_count": 2,
   "id": "262f1956",
   "metadata": {},
   "outputs": [],
   "source": [
    "import spacy"
   ]
  },
  {
   "cell_type": "code",
   "execution_count": 3,
   "id": "6c75d1fd",
   "metadata": {},
   "outputs": [
    {
     "data": {
      "text/plain": [
       "['tok2vec', 'tagger', 'parser', 'attribute_ruler', 'lemmatizer', 'ner']"
      ]
     },
     "execution_count": 3,
     "metadata": {},
     "output_type": "execute_result"
    }
   ],
   "source": [
    "nlp = spacy.load('en_core_web_sm')\n",
    "nlp.pipe_names"
   ]
  },
  {
   "cell_type": "code",
   "execution_count": 92,
   "id": "027a8841",
   "metadata": {},
   "outputs": [],
   "source": [
    "data = [\n",
    " (\"Walmart is a leading e-commerce company\", {\"entities\": [(0, 7, \"ORG\")]}),\n",
    " (\"I ordered this from ShopClues\", {\"entities\": [(20,29, \"ORG\")]}),\n",
    " (\"I did a lot of shopping from Flipkart yesterday\", {\"entities\": [(29, 37, \"ORG\")] }),\n",
    " ('My friend recently got a job at Freecharge', {\"entities\": [(32, 42, \"ORG\")] }),\n",
    " (\"Dustin's dad bought a new car\", {\"entities\": [(26, 29, \"PRODUCT\")] }),\n",
    " (\"I rented a camera\", {\"entities\": [(11,17, \"PRODUCT\")]}),\n",
    " (\"I use paytm these days to make transactions\", {\"entities\": [(6,11, \"ORG\")]}),\n",
    " (\"Raj works in the Shopclues company\",{\"entities\": [(17, 26, \"ORG\")] }),\n",
    " (\"Dad went to Walmart to shop for some stuff\", {\"entities\": [(12, 19, \"ORG\")]}),\n",
    " (\"I bought a old table\", {\"entities\": [(15,20, \"PRODUCT\")]}),\n",
    " (\"I bought a new Washer\", {\"entities\": [(15,21, \"PRODUCT\")]}),\n",
    " (\"I bought a old table\", {\"entities\": [(15,20, \"PRODUCT\")]}),\n",
    " (\"I bought a fancy dress\", {\"entities\": [(17,22, \"PRODUCT\")]}),\n",
    " (\"I repaired my computer\", {\"entities\": [(14,22, \"PRODUCT\")]}),\n",
    " (\"I got my clock fixed\", {\"entities\": [(9,15, \"PRODUCT\")]}),\n",
    " (\"I got my truck fixed\", {\"entities\": [(9,15, \"PRODUCT\")]})\n",
    "]"
   ]
  },
  {
   "cell_type": "code",
   "execution_count": 106,
   "id": "092ffb79",
   "metadata": {},
   "outputs": [
    {
     "name": "stderr",
     "output_type": "stream",
     "text": [
      "100%|████████████████████████████████████████████████████████████████████████████████| 16/16 [00:00<00:00, 2673.02it/s]\n"
     ]
    }
   ],
   "source": [
    "# in spacy 3, we need to convert this data into Bin object\n",
    "from spacy.tokens import DocBin\n",
    "from tqdm import tqdm\n",
    "\n",
    "nlp = spacy.blank('en') # load a new spacy model\n",
    "db = DocBin() # create a DocBin object\n",
    "\n",
    "for text, annot in tqdm(data): # data in previous format\n",
    "    doc = nlp.make_doc(text) # create doc object from text\n",
    "    ents = []\n",
    "    for start, end, label in annot['entities']: # creating span top add the new entities to the model\n",
    "        span = doc.char_span(start, end, label=label, alignment_mode= 'contract')\n",
    "        \n",
    "#         print(span, start, end)\n",
    "        if span is None:\n",
    "#             print(doc[start:end])\n",
    "            print('Skipping entity')\n",
    "        else:\n",
    "            ents.append(span)\n",
    "\n",
    "    try:\n",
    "        doc.ents = ents # label the text with the ents\n",
    "        db.add(doc)\n",
    "    except:\n",
    "        print(text, annot)\n",
    "\n",
    "db.to_disk('./train.spacy') # save the docbin object for training\n",
    "db.to_disk('./dev.spacy') # save the docbin object evaluation"
   ]
  },
  {
   "cell_type": "code",
   "execution_count": 95,
   "id": "e17b4080",
   "metadata": {},
   "outputs": [],
   "source": [
    "import spacy\n",
    "nlp = spacy.load('output/model-last')"
   ]
  },
  {
   "cell_type": "code",
   "execution_count": 104,
   "id": "8c35d11d",
   "metadata": {},
   "outputs": [
    {
     "name": "stdout",
     "output_type": "stream",
     "text": [
      "I bought a camera from Walmart\n",
      "camera PRODUCT\n",
      "Walmart ORG\n"
     ]
    }
   ],
   "source": [
    "sentence = 'I bought a camera from Walmart'\n",
    "doc = nlp(sentence)\n",
    "print(doc)\n",
    "for ent in doc.ents:\n",
    "    print(ent.text, ent.label_)"
   ]
  },
  {
   "cell_type": "code",
   "execution_count": 105,
   "id": "a8cc7eec",
   "metadata": {},
   "outputs": [
    {
     "data": {
      "text/html": [
       "<span class=\"tex2jax_ignore\"><div class=\"entities\" style=\"line-height: 2.5; direction: ltr\">I bought a \n",
       "<mark class=\"entity\" style=\"background: #bfeeb7; padding: 0.45em 0.6em; margin: 0 0.25em; line-height: 1; border-radius: 0.35em;\">\n",
       "    camera\n",
       "    <span style=\"font-size: 0.8em; font-weight: bold; line-height: 1; border-radius: 0.35em; vertical-align: middle; margin-left: 0.5rem\">PRODUCT</span>\n",
       "</mark>\n",
       " from \n",
       "<mark class=\"entity\" style=\"background: #7aecec; padding: 0.45em 0.6em; margin: 0 0.25em; line-height: 1; border-radius: 0.35em;\">\n",
       "    Walmart\n",
       "    <span style=\"font-size: 0.8em; font-weight: bold; line-height: 1; border-radius: 0.35em; vertical-align: middle; margin-left: 0.5rem\">ORG</span>\n",
       "</mark>\n",
       "</div></span>"
      ],
      "text/plain": [
       "<IPython.core.display.HTML object>"
      ]
     },
     "metadata": {},
     "output_type": "display_data"
    }
   ],
   "source": [
    "from spacy import displacy\n",
    "displacy.render(doc, style='ent', jupyter=True)"
   ]
  },
  {
   "cell_type": "code",
   "execution_count": null,
   "id": "46668c9b",
   "metadata": {},
   "outputs": [],
   "source": []
  },
  {
   "cell_type": "code",
   "execution_count": null,
   "id": "5d764cab",
   "metadata": {},
   "outputs": [],
   "source": []
  }
 ],
 "metadata": {
  "kernelspec": {
   "display_name": "Python 3",
   "language": "python",
   "name": "python3"
  },
  "language_info": {
   "codemirror_mode": {
    "name": "ipython",
    "version": 3
   },
   "file_extension": ".py",
   "mimetype": "text/x-python",
   "name": "python",
   "nbconvert_exporter": "python",
   "pygments_lexer": "ipython3",
   "version": "3.8.8"
  }
 },
 "nbformat": 4,
 "nbformat_minor": 5
}
