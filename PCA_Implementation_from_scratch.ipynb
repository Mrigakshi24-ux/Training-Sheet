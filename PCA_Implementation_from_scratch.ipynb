{
  "nbformat": 4,
  "nbformat_minor": 0,
  "metadata": {
    "colab": {
      "name": "PCA Implementation from scratch",
      "provenance": [],
      "authorship_tag": "ABX9TyM9Jbh+LweltiO407plY6Hj",
      "include_colab_link": true
    },
    "kernelspec": {
      "name": "python3",
      "display_name": "Python 3"
    },
    "language_info": {
      "name": "python"
    }
  },
  "cells": [
    {
      "cell_type": "markdown",
      "metadata": {
        "id": "view-in-github",
        "colab_type": "text"
      },
      "source": [
        "<a href=\"https://colab.research.google.com/github/Mrigakshi24-ux/Training-Sheet/blob/main/PCA_Implementation_from_scratch.ipynb\" target=\"_parent\"><img src=\"https://colab.research.google.com/assets/colab-badge.svg\" alt=\"Open In Colab\"/></a>"
      ]
    },
    {
      "cell_type": "markdown",
      "source": [
        "PCA Implementation"
      ],
      "metadata": {
        "id": "gI4KgIhuAyDD"
      }
    },
    {
      "cell_type": "code",
      "execution_count": null,
      "metadata": {
        "id": "sKjvKz-yFWD5"
      },
      "outputs": [],
      "source": [
        "from sklearn.datasets import load_breast_cancer\n",
        "import pandas as pd"
      ]
    },
    {
      "cell_type": "code",
      "source": [
        "data = load_breast_cancer()\n",
        "\n",
        "print(data['feature_names'])\n",
        "print(data['target_names'])"
      ],
      "metadata": {
        "colab": {
          "base_uri": "https://localhost:8080/"
        },
        "id": "nDuvdbZEFg8B",
        "outputId": "77b9dcbc-670a-4767-c46b-e6b319c28db6"
      },
      "execution_count": null,
      "outputs": [
        {
          "output_type": "stream",
          "name": "stdout",
          "text": [
            "['mean radius' 'mean texture' 'mean perimeter' 'mean area'\n",
            " 'mean smoothness' 'mean compactness' 'mean concavity'\n",
            " 'mean concave points' 'mean symmetry' 'mean fractal dimension'\n",
            " 'radius error' 'texture error' 'perimeter error' 'area error'\n",
            " 'smoothness error' 'compactness error' 'concavity error'\n",
            " 'concave points error' 'symmetry error' 'fractal dimension error'\n",
            " 'worst radius' 'worst texture' 'worst perimeter' 'worst area'\n",
            " 'worst smoothness' 'worst compactness' 'worst concavity'\n",
            " 'worst concave points' 'worst symmetry' 'worst fractal dimension']\n",
            "['malignant' 'benign']\n"
          ]
        }
      ]
    },
    {
      "cell_type": "code",
      "source": [
        "print(data.keys())"
      ],
      "metadata": {
        "colab": {
          "base_uri": "https://localhost:8080/"
        },
        "id": "Oc_yEbWXBH0B",
        "outputId": "b863d006-f51b-4cb4-b2ce-80affdeb0af6"
      },
      "execution_count": null,
      "outputs": [
        {
          "output_type": "stream",
          "name": "stdout",
          "text": [
            "dict_keys(['data', 'target', 'frame', 'target_names', 'DESCR', 'feature_names', 'filename', 'data_module'])\n"
          ]
        }
      ]
    },
    {
      "cell_type": "code",
      "source": [
        "data_pd = pd.DataFrame(data['data'], columns = data['feature_names'])\n",
        "# data_pd.head()"
      ],
      "metadata": {
        "id": "qmdTKeCjBcaF"
      },
      "execution_count": null,
      "outputs": []
    },
    {
      "cell_type": "markdown",
      "source": [
        "Scale/Standardize the data"
      ],
      "metadata": {
        "id": "qSV33YETCmHu"
      }
    },
    {
      "cell_type": "code",
      "source": [
        "from sklearn.preprocessing import StandardScaler\n",
        "\n",
        "scaled_data_X = StandardScaler().fit_transform(data_pd)\n",
        "scaled_data_X[:2]"
      ],
      "metadata": {
        "colab": {
          "base_uri": "https://localhost:8080/"
        },
        "id": "zGFTlOGSB9Di",
        "outputId": "ba0da9c5-e35a-4b4d-cb45-ec9f733fea4e"
      },
      "execution_count": null,
      "outputs": [
        {
          "output_type": "execute_result",
          "data": {
            "text/plain": [
              "array([[ 1.09706398e+00, -2.07333501e+00,  1.26993369e+00,\n",
              "         9.84374905e-01,  1.56846633e+00,  3.28351467e+00,\n",
              "         2.65287398e+00,  2.53247522e+00,  2.21751501e+00,\n",
              "         2.25574689e+00,  2.48973393e+00, -5.65265059e-01,\n",
              "         2.83303087e+00,  2.48757756e+00, -2.14001647e-01,\n",
              "         1.31686157e+00,  7.24026158e-01,  6.60819941e-01,\n",
              "         1.14875667e+00,  9.07083081e-01,  1.88668963e+00,\n",
              "        -1.35929347e+00,  2.30360062e+00,  2.00123749e+00,\n",
              "         1.30768627e+00,  2.61666502e+00,  2.10952635e+00,\n",
              "         2.29607613e+00,  2.75062224e+00,  1.93701461e+00],\n",
              "       [ 1.82982061e+00, -3.53632408e-01,  1.68595471e+00,\n",
              "         1.90870825e+00, -8.26962447e-01, -4.87071673e-01,\n",
              "        -2.38458552e-02,  5.48144156e-01,  1.39236330e-03,\n",
              "        -8.68652457e-01,  4.99254601e-01, -8.76243603e-01,\n",
              "         2.63326966e-01,  7.42401948e-01, -6.05350847e-01,\n",
              "        -6.92926270e-01, -4.40780058e-01,  2.60162067e-01,\n",
              "        -8.05450380e-01, -9.94437403e-02,  1.80592744e+00,\n",
              "        -3.69203222e-01,  1.53512599e+00,  1.89048899e+00,\n",
              "        -3.75611957e-01, -4.30444219e-01, -1.46748968e-01,\n",
              "         1.08708430e+00, -2.43889668e-01,  2.81189987e-01]])"
            ]
          },
          "metadata": {},
          "execution_count": 26
        }
      ]
    },
    {
      "cell_type": "markdown",
      "source": [
        "Covariance matrix"
      ],
      "metadata": {
        "id": "VlSKNPELDRS1"
      }
    },
    {
      "cell_type": "code",
      "source": [
        "import numpy as np\n",
        "# diagonal elements are variance and rest are covariance. \n",
        "transpose = scaled_data_X.T\n",
        "cov_matrix = np.cov(transpose)\n",
        "# prinitng first two rows of matrix\n",
        "cov_matrix[:2]"
      ],
      "metadata": {
        "colab": {
          "base_uri": "https://localhost:8080/"
        },
        "id": "wtlxGwc6C6Et",
        "outputId": "05cd99b2-3cc7-4454-e39f-7cd2f6ea3bb4"
      },
      "execution_count": null,
      "outputs": [
        {
          "output_type": "execute_result",
          "data": {
            "text/plain": [
              "array([[ 1.00176056,  0.32435193,  0.99961207,  0.98909547,  0.17088151,\n",
              "         0.50701464,  0.67795504,  0.82397664,  0.14800135, -0.31217947,\n",
              "         0.68028597, -0.09748878,  0.67535854,  0.7371592 , -0.22299203,\n",
              "         0.20636266,  0.19454553,  0.37683123, -0.10450454, -0.04271634,\n",
              "         0.97124591,  0.29753054,  0.9668357 ,  0.94273929,  0.11982673,\n",
              "         0.41419075,  0.52783912,  0.74552443,  0.16424199,  0.00707833],\n",
              "       [ 0.32435193,  1.00176056,  0.33011322,  0.32165099, -0.02342969,\n",
              "         0.23711895,  0.30295025,  0.29398071,  0.07152669, -0.07657176,\n",
              "         0.27635436,  0.38703783,  0.28216902,  0.26030246,  0.00662542,\n",
              "         0.19231259,  0.14354535,  0.1641395 ,  0.00914324,  0.0545534 ,\n",
              "         0.35319367,  0.9136503 ,  0.35866993,  0.34415078,  0.07763981,\n",
              "         0.27831873,  0.3015552 ,  0.29583577,  0.10519278,  0.11941522]])"
            ]
          },
          "metadata": {},
          "execution_count": 27
        }
      ]
    },
    {
      "cell_type": "markdown",
      "source": [
        "Eigendecomposition: Decomposition of square matrix into eigencevtors and eigenvalues"
      ],
      "metadata": {
        "id": "I5rC3LgDEI2g"
      }
    },
    {
      "cell_type": "code",
      "source": [
        "# Principal components are sorted by the percentage of the variance explained.\n",
        "eigenvalues, eigenvectors = np.linalg.eig(cov_matrix)\n",
        "eigenvalues[:2], eigenvectors[:2]"
      ],
      "metadata": {
        "colab": {
          "base_uri": "https://localhost:8080/"
        },
        "id": "3DlK2PJ2DrDO",
        "outputId": "17650100-6e0f-42ff-8505-a68ee96b76e9"
      },
      "execution_count": null,
      "outputs": [
        {
          "output_type": "execute_result",
          "data": {
            "text/plain": [
              "(array([13.30499079,  5.7013746 ]),\n",
              " array([[ 2.18902444e-01, -2.33857132e-01, -8.53124284e-03,\n",
              "          4.14089623e-02, -3.77863538e-02,  1.87407904e-02,\n",
              "          1.24088340e-01,  7.45229622e-03, -2.23109764e-01,\n",
              "          9.54864432e-02,  4.14714866e-02,  5.10674568e-02,\n",
              "          1.19672116e-02, -5.95061348e-02,  5.11187749e-02,\n",
              "         -1.50583883e-01,  2.02924255e-01,  1.46712338e-01,\n",
              "         -2.25384659e-01, -7.02414091e-01,  2.11460455e-01,\n",
              "         -2.11194013e-01, -1.31526670e-01,  1.29476396e-01,\n",
              "          1.92264989e-02, -1.82579441e-01,  9.85526942e-02,\n",
              "         -7.29289034e-02, -4.96986642e-02,  6.85700057e-02],\n",
              "        [ 1.03724578e-01, -5.97060883e-02,  6.45499033e-02,\n",
              "         -6.03050001e-01,  4.94688505e-02, -3.21788366e-02,\n",
              "         -1.13995382e-02, -1.30674825e-01,  1.12699390e-01,\n",
              "          2.40934066e-01, -3.02243402e-01,  2.54896423e-01,\n",
              "          2.03461333e-01,  2.15600995e-02,  1.07922421e-01,\n",
              "         -1.57841960e-01, -3.87061187e-02, -4.11029851e-02,\n",
              "         -2.97886446e-02, -2.73661018e-04, -1.05339342e-02,\n",
              "          6.58114593e-05, -1.73573093e-02,  2.45566636e-02,\n",
              "         -8.47459309e-02,  9.87867898e-02,  5.54997454e-04,\n",
              "         -9.48006326e-02, -2.44134993e-01, -4.48369467e-01]]))"
            ]
          },
          "metadata": {},
          "execution_count": 28
        }
      ]
    },
    {
      "cell_type": "markdown",
      "source": [
        "Calculating percentage of variance explained by components"
      ],
      "metadata": {
        "id": "Wafo8-aHFRgy"
      }
    },
    {
      "cell_type": "code",
      "source": [
        "# with the give percentage of variances, we can check how many principal components will affect the data more. \n",
        "# first 8 components show around 90% variance\n",
        "variances = []\n",
        "for i in range(len(eigenvalues)):\n",
        "  variances.append(eigenvalues[i]/np.sum(eigenvalues))\n",
        "print(np.sum(variances), '\\n', variances)"
      ],
      "metadata": {
        "colab": {
          "base_uri": "https://localhost:8080/"
        },
        "id": "k1oCjLZHE2kG",
        "outputId": "827bd230-3ad8-45a0-df81-f48e2f0a3ad1"
      },
      "execution_count": null,
      "outputs": [
        {
          "output_type": "stream",
          "name": "stdout",
          "text": [
            "1.0000000000000004 \n",
            " [0.4427202560752638, 0.18971182044033097, 0.09393163257431388, 0.06602134915470141, 0.05495768492346264, 0.040245220398833506, 0.02250733712982507, 0.01588723800021325, 0.013896493745591054, 0.011689781894131487, 0.009797189875980158, 0.008705379007378812, 0.008045249871967322, 0.005233657454926358, 0.0031378321676273995, 0.0026620933651523124, 0.001979967925324275, 0.0017539594502263716, 0.0016492530592251552, 4.434827427354741e-06, 2.4960103246895918e-05, 5.297792903809098e-05, 0.00023001546250595825, 0.0002725879954774842, 0.0005160423791651998, 0.0006018335666716718, 0.0008113612588991022, 0.0009146467510543434, 0.001038646748338712, 0.0009990964637002565]\n"
          ]
        }
      ]
    },
    {
      "cell_type": "code",
      "source": [
        "# extracting the frst 8 vectors\n",
        "pca = []\n",
        "for i in range(8):\n",
        "  pca.append(scaled_data_X.dot(eigenvectors.T[i]))\n",
        "pca_comp = pd.DataFrame(np.asarray(pca).T,  columns = ['PCA1','PCA2','PCA3','PCA4','PCA5','PCA6','PCA7','PCA8'] )\n",
        "pca_comp.head()"
      ],
      "metadata": {
        "colab": {
          "base_uri": "https://localhost:8080/",
          "height": 206
        },
        "id": "iOGTb4rjFzwf",
        "outputId": "23e3a7e4-f5a3-41c2-f9e1-ca8a7fb2f32f"
      },
      "execution_count": null,
      "outputs": [
        {
          "output_type": "execute_result",
          "data": {
            "text/html": [
              "\n",
              "  <div id=\"df-ba0e0d53-979f-47b0-9c39-807f294a3519\">\n",
              "    <div class=\"colab-df-container\">\n",
              "      <div>\n",
              "<style scoped>\n",
              "    .dataframe tbody tr th:only-of-type {\n",
              "        vertical-align: middle;\n",
              "    }\n",
              "\n",
              "    .dataframe tbody tr th {\n",
              "        vertical-align: top;\n",
              "    }\n",
              "\n",
              "    .dataframe thead th {\n",
              "        text-align: right;\n",
              "    }\n",
              "</style>\n",
              "<table border=\"1\" class=\"dataframe\">\n",
              "  <thead>\n",
              "    <tr style=\"text-align: right;\">\n",
              "      <th></th>\n",
              "      <th>PCA1</th>\n",
              "      <th>PCA2</th>\n",
              "      <th>PCA3</th>\n",
              "      <th>PCA4</th>\n",
              "      <th>PCA5</th>\n",
              "      <th>PCA6</th>\n",
              "      <th>PCA7</th>\n",
              "      <th>PCA8</th>\n",
              "    </tr>\n",
              "  </thead>\n",
              "  <tbody>\n",
              "    <tr>\n",
              "      <th>0</th>\n",
              "      <td>9.192837</td>\n",
              "      <td>1.948583</td>\n",
              "      <td>-1.123166</td>\n",
              "      <td>3.633731</td>\n",
              "      <td>1.195110</td>\n",
              "      <td>1.411424</td>\n",
              "      <td>-2.159370</td>\n",
              "      <td>0.398407</td>\n",
              "    </tr>\n",
              "    <tr>\n",
              "      <th>1</th>\n",
              "      <td>2.387802</td>\n",
              "      <td>-3.768172</td>\n",
              "      <td>-0.529293</td>\n",
              "      <td>1.118264</td>\n",
              "      <td>-0.621775</td>\n",
              "      <td>0.028656</td>\n",
              "      <td>-0.013358</td>\n",
              "      <td>-0.240988</td>\n",
              "    </tr>\n",
              "    <tr>\n",
              "      <th>2</th>\n",
              "      <td>5.733896</td>\n",
              "      <td>-1.075174</td>\n",
              "      <td>-0.551748</td>\n",
              "      <td>0.912083</td>\n",
              "      <td>0.177086</td>\n",
              "      <td>0.541452</td>\n",
              "      <td>0.668166</td>\n",
              "      <td>-0.097374</td>\n",
              "    </tr>\n",
              "    <tr>\n",
              "      <th>3</th>\n",
              "      <td>7.122953</td>\n",
              "      <td>10.275589</td>\n",
              "      <td>-3.232790</td>\n",
              "      <td>0.152547</td>\n",
              "      <td>2.960878</td>\n",
              "      <td>3.053422</td>\n",
              "      <td>-1.429911</td>\n",
              "      <td>-1.059565</td>\n",
              "    </tr>\n",
              "    <tr>\n",
              "      <th>4</th>\n",
              "      <td>3.935302</td>\n",
              "      <td>-1.948072</td>\n",
              "      <td>1.389767</td>\n",
              "      <td>2.940639</td>\n",
              "      <td>-0.546747</td>\n",
              "      <td>-1.226495</td>\n",
              "      <td>0.936213</td>\n",
              "      <td>-0.636376</td>\n",
              "    </tr>\n",
              "  </tbody>\n",
              "</table>\n",
              "</div>\n",
              "      <button class=\"colab-df-convert\" onclick=\"convertToInteractive('df-ba0e0d53-979f-47b0-9c39-807f294a3519')\"\n",
              "              title=\"Convert this dataframe to an interactive table.\"\n",
              "              style=\"display:none;\">\n",
              "        \n",
              "  <svg xmlns=\"http://www.w3.org/2000/svg\" height=\"24px\"viewBox=\"0 0 24 24\"\n",
              "       width=\"24px\">\n",
              "    <path d=\"M0 0h24v24H0V0z\" fill=\"none\"/>\n",
              "    <path d=\"M18.56 5.44l.94 2.06.94-2.06 2.06-.94-2.06-.94-.94-2.06-.94 2.06-2.06.94zm-11 1L8.5 8.5l.94-2.06 2.06-.94-2.06-.94L8.5 2.5l-.94 2.06-2.06.94zm10 10l.94 2.06.94-2.06 2.06-.94-2.06-.94-.94-2.06-.94 2.06-2.06.94z\"/><path d=\"M17.41 7.96l-1.37-1.37c-.4-.4-.92-.59-1.43-.59-.52 0-1.04.2-1.43.59L10.3 9.45l-7.72 7.72c-.78.78-.78 2.05 0 2.83L4 21.41c.39.39.9.59 1.41.59.51 0 1.02-.2 1.41-.59l7.78-7.78 2.81-2.81c.8-.78.8-2.07 0-2.86zM5.41 20L4 18.59l7.72-7.72 1.47 1.35L5.41 20z\"/>\n",
              "  </svg>\n",
              "      </button>\n",
              "      \n",
              "  <style>\n",
              "    .colab-df-container {\n",
              "      display:flex;\n",
              "      flex-wrap:wrap;\n",
              "      gap: 12px;\n",
              "    }\n",
              "\n",
              "    .colab-df-convert {\n",
              "      background-color: #E8F0FE;\n",
              "      border: none;\n",
              "      border-radius: 50%;\n",
              "      cursor: pointer;\n",
              "      display: none;\n",
              "      fill: #1967D2;\n",
              "      height: 32px;\n",
              "      padding: 0 0 0 0;\n",
              "      width: 32px;\n",
              "    }\n",
              "\n",
              "    .colab-df-convert:hover {\n",
              "      background-color: #E2EBFA;\n",
              "      box-shadow: 0px 1px 2px rgba(60, 64, 67, 0.3), 0px 1px 3px 1px rgba(60, 64, 67, 0.15);\n",
              "      fill: #174EA6;\n",
              "    }\n",
              "\n",
              "    [theme=dark] .colab-df-convert {\n",
              "      background-color: #3B4455;\n",
              "      fill: #D2E3FC;\n",
              "    }\n",
              "\n",
              "    [theme=dark] .colab-df-convert:hover {\n",
              "      background-color: #434B5C;\n",
              "      box-shadow: 0px 1px 3px 1px rgba(0, 0, 0, 0.15);\n",
              "      filter: drop-shadow(0px 1px 2px rgba(0, 0, 0, 0.3));\n",
              "      fill: #FFFFFF;\n",
              "    }\n",
              "  </style>\n",
              "\n",
              "      <script>\n",
              "        const buttonEl =\n",
              "          document.querySelector('#df-ba0e0d53-979f-47b0-9c39-807f294a3519 button.colab-df-convert');\n",
              "        buttonEl.style.display =\n",
              "          google.colab.kernel.accessAllowed ? 'block' : 'none';\n",
              "\n",
              "        async function convertToInteractive(key) {\n",
              "          const element = document.querySelector('#df-ba0e0d53-979f-47b0-9c39-807f294a3519');\n",
              "          const dataTable =\n",
              "            await google.colab.kernel.invokeFunction('convertToInteractive',\n",
              "                                                     [key], {});\n",
              "          if (!dataTable) return;\n",
              "\n",
              "          const docLinkHtml = 'Like what you see? Visit the ' +\n",
              "            '<a target=\"_blank\" href=https://colab.research.google.com/notebooks/data_table.ipynb>data table notebook</a>'\n",
              "            + ' to learn more about interactive tables.';\n",
              "          element.innerHTML = '';\n",
              "          dataTable['output_type'] = 'display_data';\n",
              "          await google.colab.output.renderOutput(dataTable, element);\n",
              "          const docLink = document.createElement('div');\n",
              "          docLink.innerHTML = docLinkHtml;\n",
              "          element.appendChild(docLink);\n",
              "        }\n",
              "      </script>\n",
              "    </div>\n",
              "  </div>\n",
              "  "
            ],
            "text/plain": [
              "       PCA1       PCA2      PCA3  ...      PCA6      PCA7      PCA8\n",
              "0  9.192837   1.948583 -1.123166  ...  1.411424 -2.159370  0.398407\n",
              "1  2.387802  -3.768172 -0.529293  ...  0.028656 -0.013358 -0.240988\n",
              "2  5.733896  -1.075174 -0.551748  ...  0.541452  0.668166 -0.097374\n",
              "3  7.122953  10.275589 -3.232790  ...  3.053422 -1.429911 -1.059565\n",
              "4  3.935302  -1.948072  1.389767  ... -1.226495  0.936213 -0.636376\n",
              "\n",
              "[5 rows x 8 columns]"
            ]
          },
          "metadata": {},
          "execution_count": 57
        }
      ]
    },
    {
      "cell_type": "code",
      "source": [
        "pca_comp['target_variable'] = data['target']\n",
        "pca_comp.head()"
      ],
      "metadata": {
        "colab": {
          "base_uri": "https://localhost:8080/",
          "height": 206
        },
        "id": "pUTBuEl3YCsO",
        "outputId": "48f5871b-ede9-495b-c02f-bb783e0dfb5f"
      },
      "execution_count": null,
      "outputs": [
        {
          "output_type": "execute_result",
          "data": {
            "text/html": [
              "\n",
              "  <div id=\"df-4f5184e2-9065-4e47-9a9e-f9a8226eb753\">\n",
              "    <div class=\"colab-df-container\">\n",
              "      <div>\n",
              "<style scoped>\n",
              "    .dataframe tbody tr th:only-of-type {\n",
              "        vertical-align: middle;\n",
              "    }\n",
              "\n",
              "    .dataframe tbody tr th {\n",
              "        vertical-align: top;\n",
              "    }\n",
              "\n",
              "    .dataframe thead th {\n",
              "        text-align: right;\n",
              "    }\n",
              "</style>\n",
              "<table border=\"1\" class=\"dataframe\">\n",
              "  <thead>\n",
              "    <tr style=\"text-align: right;\">\n",
              "      <th></th>\n",
              "      <th>PCA1</th>\n",
              "      <th>PCA2</th>\n",
              "      <th>PCA3</th>\n",
              "      <th>PCA4</th>\n",
              "      <th>PCA5</th>\n",
              "      <th>PCA6</th>\n",
              "      <th>PCA7</th>\n",
              "      <th>PCA8</th>\n",
              "      <th>target_variable</th>\n",
              "    </tr>\n",
              "  </thead>\n",
              "  <tbody>\n",
              "    <tr>\n",
              "      <th>0</th>\n",
              "      <td>9.192837</td>\n",
              "      <td>1.948583</td>\n",
              "      <td>-1.123166</td>\n",
              "      <td>3.633731</td>\n",
              "      <td>1.195110</td>\n",
              "      <td>1.411424</td>\n",
              "      <td>-2.159370</td>\n",
              "      <td>0.398407</td>\n",
              "      <td>0</td>\n",
              "    </tr>\n",
              "    <tr>\n",
              "      <th>1</th>\n",
              "      <td>2.387802</td>\n",
              "      <td>-3.768172</td>\n",
              "      <td>-0.529293</td>\n",
              "      <td>1.118264</td>\n",
              "      <td>-0.621775</td>\n",
              "      <td>0.028656</td>\n",
              "      <td>-0.013358</td>\n",
              "      <td>-0.240988</td>\n",
              "      <td>0</td>\n",
              "    </tr>\n",
              "    <tr>\n",
              "      <th>2</th>\n",
              "      <td>5.733896</td>\n",
              "      <td>-1.075174</td>\n",
              "      <td>-0.551748</td>\n",
              "      <td>0.912083</td>\n",
              "      <td>0.177086</td>\n",
              "      <td>0.541452</td>\n",
              "      <td>0.668166</td>\n",
              "      <td>-0.097374</td>\n",
              "      <td>0</td>\n",
              "    </tr>\n",
              "    <tr>\n",
              "      <th>3</th>\n",
              "      <td>7.122953</td>\n",
              "      <td>10.275589</td>\n",
              "      <td>-3.232790</td>\n",
              "      <td>0.152547</td>\n",
              "      <td>2.960878</td>\n",
              "      <td>3.053422</td>\n",
              "      <td>-1.429911</td>\n",
              "      <td>-1.059565</td>\n",
              "      <td>0</td>\n",
              "    </tr>\n",
              "    <tr>\n",
              "      <th>4</th>\n",
              "      <td>3.935302</td>\n",
              "      <td>-1.948072</td>\n",
              "      <td>1.389767</td>\n",
              "      <td>2.940639</td>\n",
              "      <td>-0.546747</td>\n",
              "      <td>-1.226495</td>\n",
              "      <td>0.936213</td>\n",
              "      <td>-0.636376</td>\n",
              "      <td>0</td>\n",
              "    </tr>\n",
              "  </tbody>\n",
              "</table>\n",
              "</div>\n",
              "      <button class=\"colab-df-convert\" onclick=\"convertToInteractive('df-4f5184e2-9065-4e47-9a9e-f9a8226eb753')\"\n",
              "              title=\"Convert this dataframe to an interactive table.\"\n",
              "              style=\"display:none;\">\n",
              "        \n",
              "  <svg xmlns=\"http://www.w3.org/2000/svg\" height=\"24px\"viewBox=\"0 0 24 24\"\n",
              "       width=\"24px\">\n",
              "    <path d=\"M0 0h24v24H0V0z\" fill=\"none\"/>\n",
              "    <path d=\"M18.56 5.44l.94 2.06.94-2.06 2.06-.94-2.06-.94-.94-2.06-.94 2.06-2.06.94zm-11 1L8.5 8.5l.94-2.06 2.06-.94-2.06-.94L8.5 2.5l-.94 2.06-2.06.94zm10 10l.94 2.06.94-2.06 2.06-.94-2.06-.94-.94-2.06-.94 2.06-2.06.94z\"/><path d=\"M17.41 7.96l-1.37-1.37c-.4-.4-.92-.59-1.43-.59-.52 0-1.04.2-1.43.59L10.3 9.45l-7.72 7.72c-.78.78-.78 2.05 0 2.83L4 21.41c.39.39.9.59 1.41.59.51 0 1.02-.2 1.41-.59l7.78-7.78 2.81-2.81c.8-.78.8-2.07 0-2.86zM5.41 20L4 18.59l7.72-7.72 1.47 1.35L5.41 20z\"/>\n",
              "  </svg>\n",
              "      </button>\n",
              "      \n",
              "  <style>\n",
              "    .colab-df-container {\n",
              "      display:flex;\n",
              "      flex-wrap:wrap;\n",
              "      gap: 12px;\n",
              "    }\n",
              "\n",
              "    .colab-df-convert {\n",
              "      background-color: #E8F0FE;\n",
              "      border: none;\n",
              "      border-radius: 50%;\n",
              "      cursor: pointer;\n",
              "      display: none;\n",
              "      fill: #1967D2;\n",
              "      height: 32px;\n",
              "      padding: 0 0 0 0;\n",
              "      width: 32px;\n",
              "    }\n",
              "\n",
              "    .colab-df-convert:hover {\n",
              "      background-color: #E2EBFA;\n",
              "      box-shadow: 0px 1px 2px rgba(60, 64, 67, 0.3), 0px 1px 3px 1px rgba(60, 64, 67, 0.15);\n",
              "      fill: #174EA6;\n",
              "    }\n",
              "\n",
              "    [theme=dark] .colab-df-convert {\n",
              "      background-color: #3B4455;\n",
              "      fill: #D2E3FC;\n",
              "    }\n",
              "\n",
              "    [theme=dark] .colab-df-convert:hover {\n",
              "      background-color: #434B5C;\n",
              "      box-shadow: 0px 1px 3px 1px rgba(0, 0, 0, 0.15);\n",
              "      filter: drop-shadow(0px 1px 2px rgba(0, 0, 0, 0.3));\n",
              "      fill: #FFFFFF;\n",
              "    }\n",
              "  </style>\n",
              "\n",
              "      <script>\n",
              "        const buttonEl =\n",
              "          document.querySelector('#df-4f5184e2-9065-4e47-9a9e-f9a8226eb753 button.colab-df-convert');\n",
              "        buttonEl.style.display =\n",
              "          google.colab.kernel.accessAllowed ? 'block' : 'none';\n",
              "\n",
              "        async function convertToInteractive(key) {\n",
              "          const element = document.querySelector('#df-4f5184e2-9065-4e47-9a9e-f9a8226eb753');\n",
              "          const dataTable =\n",
              "            await google.colab.kernel.invokeFunction('convertToInteractive',\n",
              "                                                     [key], {});\n",
              "          if (!dataTable) return;\n",
              "\n",
              "          const docLinkHtml = 'Like what you see? Visit the ' +\n",
              "            '<a target=\"_blank\" href=https://colab.research.google.com/notebooks/data_table.ipynb>data table notebook</a>'\n",
              "            + ' to learn more about interactive tables.';\n",
              "          element.innerHTML = '';\n",
              "          dataTable['output_type'] = 'display_data';\n",
              "          await google.colab.output.renderOutput(dataTable, element);\n",
              "          const docLink = document.createElement('div');\n",
              "          docLink.innerHTML = docLinkHtml;\n",
              "          element.appendChild(docLink);\n",
              "        }\n",
              "      </script>\n",
              "    </div>\n",
              "  </div>\n",
              "  "
            ],
            "text/plain": [
              "       PCA1       PCA2      PCA3  ...      PCA7      PCA8  target_variable\n",
              "0  9.192837   1.948583 -1.123166  ... -2.159370  0.398407                0\n",
              "1  2.387802  -3.768172 -0.529293  ... -0.013358 -0.240988                0\n",
              "2  5.733896  -1.075174 -0.551748  ...  0.668166 -0.097374                0\n",
              "3  7.122953  10.275589 -3.232790  ... -1.429911 -1.059565                0\n",
              "4  3.935302  -1.948072  1.389767  ...  0.936213 -0.636376                0\n",
              "\n",
              "[5 rows x 9 columns]"
            ]
          },
          "metadata": {},
          "execution_count": 58
        }
      ]
    },
    {
      "cell_type": "code",
      "source": [
        "# plotting first to prinicples\n",
        "import matplotlib.pyplot as plt\n",
        "plt.figure(figsize=(6,6))\n",
        "plt.scatter(pca_comp.iloc[:,0],pca_comp.iloc[:,1],c=data['target'],cmap='plasma')\n",
        "plt.xlabel('pc1')\n",
        "plt.ylabel('pc2')"
      ],
      "metadata": {
        "colab": {
          "base_uri": "https://localhost:8080/",
          "height": 406
        },
        "id": "kAR01SmPaKaF",
        "outputId": "62e41257-77b3-4229-ff75-1867448335fb"
      },
      "execution_count": null,
      "outputs": [
        {
          "output_type": "execute_result",
          "data": {
            "text/plain": [
              "Text(0, 0.5, 'pc2')"
            ]
          },
          "metadata": {},
          "execution_count": 62
        },
        {
          "output_type": "display_data",
          "data": {
            "image/png": "[encoded data removed]",
            "text/plain": [
              "<Figure size 432x432 with 1 Axes>"
            ]
          },
          "metadata": {
            "needs_background": "light"
          }
        }
      ]
    },
    {
      "cell_type": "code",
      "source": [
        ""
      ],
      "metadata": {
        "id": "fL_Xs-lpaNoE"
      },
      "execution_count": null,
      "outputs": []
    }
  ]
}