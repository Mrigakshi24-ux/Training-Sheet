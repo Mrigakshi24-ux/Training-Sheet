{
  "nbformat": 4,
  "nbformat_minor": 0,
  "metadata": {
    "colab": {
      "name": "Custom NER Model using spacy 2",
      "provenance": [],
      "authorship_tag": "ABX9TyM4MpU2oPhZa5tLq+TY8Z7m",
      "include_colab_link": true
    },
    "kernelspec": {
      "name": "python3",
      "display_name": "Python 3"
    },
    "language_info": {
      "name": "python"
    }
  },
  "cells": [
    {
      "cell_type": "markdown",
      "metadata": {
        "id": "view-in-github",
        "colab_type": "text"
      },
      "source": [
        "<a href=\"https://colab.research.google.com/github/Mrigakshi24-ux/Training-Sheet/blob/main/Custom_NER_Model_using_spacy_2.ipynb\" target=\"_parent\"><img src=\"https://colab.research.google.com/assets/colab-badge.svg\" alt=\"Open In Colab\"/></a>"
      ]
    },
    {
      "cell_type": "code",
      "execution_count": null,
      "metadata": {
        "id": "IcGTZkgATaI-"
      },
      "outputs": [],
      "source": [
        "import spacy\n",
        "import pandas as pd"
      ]
    },
    {
      "cell_type": "code",
      "source": [
        "nlp = spacy.load('en_core_web_sm')\n",
        "nlp.pipe_names"
      ],
      "metadata": {
        "colab": {
          "base_uri": "https://localhost:8080/"
        },
        "id": "BNIHDfjET1n5",
        "outputId": "638dd106-2851-4b5a-c74d-0036d2e45815"
      },
      "execution_count": null,
      "outputs": [
        {
          "output_type": "execute_result",
          "data": {
            "text/plain": [
              "['tagger', 'parser', 'ner']"
            ]
          },
          "metadata": {},
          "execution_count": 2
        }
      ]
    },
    {
      "cell_type": "code",
      "source": [
        "article_text=\"\"\"India that previously comprised only a handful of players in the e-commerce space, is now home to many biggies and giants battling out with each other to reach the top. This is thanks to the overwhelming internet and smartphone penetration coupled with the ever-increasing digital adoption across the country. These new-age innovations not only gave emerging startups a unique platform to deliver seamless shopping experiences but also provided brick and mortar stores with a level-playing field to begin their online journeys without leaving their offline legacies.\n",
        "In the wake of so many players coming together on one platform, the Indian e-commerce market is envisioned to reach USD 84 billion in 2021 from USD 24 billion in 2017. Further, with the rate at which internet penetration is increasing, we can expect more and more international retailers coming to India in addition to a large pool of new startups. This, in turn, will provide a major Philip to the organized retail market and boost its share from 12% in 2017 to 22-25% by 2021. \n",
        "Here’s a view to the e-commerce giants that are dominating India’s online shopping space:\n",
        "Amazon – One of the uncontested global leaders, Amazon started its journey as a simple online bookstore that gradually expanded its reach to provide a large suite of diversified products including media, furniture, food, and electronics, among others. And now with the launch of Amazon Prime and Amazon Music Limited, it has taken customer experience to a godly level, which will remain undefeatable for a very long time. \n",
        "Flipkart – Founded in 2007, Flipkart is recognized as the national leader in the Indian e-commerce market. Just like Amazon, it started operating by selling books and then entered other categories such as electronics, fashion, and lifestyle, mobile phones, etc. And now that it has been acquired by Walmart, one of the largest leading platforms of e-commerce in the US, it has also raised its bar of customer offerings in all aspects and giving huge competition to Amazon. \n",
        "Snapdeal – Started as a daily deals platform in 2010, Snapdeal became a full-fledged online marketplace in 2011 comprising more than 3 lac sellers across India. The platform offers over 30 million products across 800+ diverse categories from over 125,000 regional, national, and international brands and retailers. The Indian e-commerce firm follows a robust strategy to stay at the forefront of innovation and deliver seamless customer offerings to its wide customer base. It has shown great potential for recovery in recent years despite losing Freecharge and Unicommerce. \n",
        "ShopClues – Another renowned name in the Indian e-commerce industry, ShopClues was founded in July 2011. It’s a Gurugram based company having a current valuation of INR 1.1 billion and is backed by prominent names including Nexus Venture Partners, Tiger Global, and Helion Ventures as its major investors. Presently, the platform comprises more than 5 lac sellers selling products in nine different categories such as computers, cameras, mobiles, etc. \n",
        "Paytm Mall – To compete with the existing e-commerce giants, Paytm, an online payment system has also launched its online marketplace – Paytm Mall, which offers a wide array of products ranging from men and women fashion to groceries and cosmetics, electronics and home products, and many more. The unique thing about this platform is that it serves as a medium for third parties to sell their products directly through the widely-known app – Paytm. \n",
        "Reliance Retail – Given Reliance Jio’s disruptive venture in the Indian telecom space along with a solid market presence of Reliance, it is no wonder that Reliance will soon be foraying into retail space. As of now, it has plans to build an e-commerce space that will be established on online-to-offline market program and aim to bring local merchants on board to help them boost their sales and compete with the existing industry leaders. \n",
        "Big Basket – India’s biggest online supermarket, Big Basket provides a wide variety of imported and gourmet products through two types of delivery services – express delivery and slotted delivery. It also offers pre-cut fruits along with a long list of beverages including fresh juices, cold drinks, hot teas, etc. Moreover, it not only provides farm-fresh products but also ensures that the farmer gets better prices. \n",
        "Grofers – One of the leading e-commerce players in the grocery segment, Grofers started its operations in 2013 and has reached overwhelming heights in the last 5 years. Its wide range of products includes atta, milk, oil, daily need products, vegetables, dairy products, juices, beverages, among others. With its growing reach across India, it has become one of the favorite supermarkets for Indian consumers who want to shop grocery items from the comforts of their homes. \n",
        "Digital Mall of Asia – Going live in 2020, Digital Mall of Asia is a very unique concept coined by the founders of Yokeasia Malls. It is designed to provide an immersive digital space equipped with multiple visual and sensory elements to sellers and shoppers. It will also give retailers exclusive rights to sell a particular product category or brand in their respective cities. What makes it unique is its zero-commission model enabling retailers to pay only a fixed amount of monthly rental instead of paying commissions. With its one-of-a-kind features, DMA is expected to bring\n",
        "never-seen transformation to the current e-commerce ecosystem while addressing all the existing e-commerce worries such as counterfeiting. \"\"\""
      ],
      "metadata": {
        "id": "DuN22bIJTesR"
      },
      "execution_count": null,
      "outputs": []
    },
    {
      "cell_type": "code",
      "source": [
        "doc = nlp(article_text)\n",
        "l = []\n",
        "for ent in doc.ents:\n",
        "  print(ent.text, ent.label_, spacy.explain(ent.label_))"
      ],
      "metadata": {
        "colab": {
          "base_uri": "https://localhost:8080/"
        },
        "id": "QI0wc7AhTv49",
        "outputId": "6d41b6d6-8ec2-46e7-f167-edb397938cff"
      },
      "execution_count": null,
      "outputs": [
        {
          "output_type": "stream",
          "name": "stdout",
          "text": [
            "India GPE Countries, cities, states\n",
            "one CARDINAL Numerals that do not fall under another type\n",
            "Indian NORP Nationalities or religious or political groups\n",
            "USD 84 billion MONEY Monetary values, including unit\n",
            "2021 DATE Absolute or relative dates or periods\n",
            "USD 24 billion MONEY Monetary values, including unit\n",
            "2017 DATE Absolute or relative dates or periods\n",
            "India GPE Countries, cities, states\n",
            "Philip PERSON People, including fictional\n",
            "12% PERCENT Percentage, including \"%\"\n",
            "2017 DATE Absolute or relative dates or periods\n",
            "22-25% PERCENT Percentage, including \"%\"\n",
            "2021 DATE Absolute or relative dates or periods\n",
            "India GPE Countries, cities, states\n",
            "Amazon ORG Companies, agencies, institutions, etc.\n",
            "One CARDINAL Numerals that do not fall under another type\n",
            "Amazon ORG Companies, agencies, institutions, etc.\n",
            "Amazon ORG Companies, agencies, institutions, etc.\n",
            "Amazon Music Limited ORG Companies, agencies, institutions, etc.\n",
            "Flipkart PERSON People, including fictional\n",
            "2007 DATE Absolute or relative dates or periods\n",
            "Flipkart PERSON People, including fictional\n",
            "Indian NORP Nationalities or religious or political groups\n",
            "Amazon ORG Companies, agencies, institutions, etc.\n",
            "Walmart LOC Non-GPE locations, mountain ranges, bodies of water\n",
            "one CARDINAL Numerals that do not fall under another type\n",
            "US GPE Countries, cities, states\n",
            "Amazon ORG Companies, agencies, institutions, etc.\n",
            "daily DATE Absolute or relative dates or periods\n",
            "2010 DATE Absolute or relative dates or periods\n",
            "2011 DATE Absolute or relative dates or periods\n",
            "more than 3 CARDINAL Numerals that do not fall under another type\n",
            "India GPE Countries, cities, states\n",
            "over 30 million CARDINAL Numerals that do not fall under another type\n",
            "over 125,000 CARDINAL Numerals that do not fall under another type\n",
            "Indian NORP Nationalities or religious or political groups\n",
            "recent years DATE Absolute or relative dates or periods\n",
            "Freecharge PERSON People, including fictional\n",
            "Unicommerce GPE Countries, cities, states\n",
            "ShopClues PERSON People, including fictional\n",
            "Indian NORP Nationalities or religious or political groups\n",
            "ShopClues ORG Companies, agencies, institutions, etc.\n",
            "July 2011 DATE Absolute or relative dates or periods\n",
            "Gurugram ORG Companies, agencies, institutions, etc.\n",
            "INR ORG Companies, agencies, institutions, etc.\n",
            "1.1 billion CARDINAL Numerals that do not fall under another type\n",
            "Nexus Venture Partners ORG Companies, agencies, institutions, etc.\n",
            "Helion Ventures ORG Companies, agencies, institutions, etc.\n",
            "more than 5 CARDINAL Numerals that do not fall under another type\n",
            "nine CARDINAL Numerals that do not fall under another type\n",
            "Paytm Mall PERSON People, including fictional\n",
            "Paytm ORG Companies, agencies, institutions, etc.\n",
            "Paytm Mall FAC Buildings, airports, highways, bridges, etc.\n",
            "third ORDINAL \"first\", \"second\", etc.\n",
            "Paytm GPE Countries, cities, states\n",
            "Indian NORP Nationalities or religious or political groups\n",
            "Reliance ORG Companies, agencies, institutions, etc.\n",
            "Reliance ORG Companies, agencies, institutions, etc.\n",
            "India GPE Countries, cities, states\n",
            "Big Basket ORG Companies, agencies, institutions, etc.\n",
            "two CARDINAL Numerals that do not fall under another type\n",
            "One CARDINAL Numerals that do not fall under another type\n",
            "2013 DATE Absolute or relative dates or periods\n",
            "the last 5 years DATE Absolute or relative dates or periods\n",
            "daily DATE Absolute or relative dates or periods\n",
            "India GPE Countries, cities, states\n",
            "Indian NORP Nationalities or religious or political groups\n",
            "Digital Mall FAC Buildings, airports, highways, bridges, etc.\n",
            "Asia LOC Non-GPE locations, mountain ranges, bodies of water\n",
            "2020 DATE Absolute or relative dates or periods\n",
            "Digital Mall ORG Companies, agencies, institutions, etc.\n",
            "Asia LOC Non-GPE locations, mountain ranges, bodies of water\n",
            "Yokeasia Malls GPE Countries, cities, states\n",
            "zero CARDINAL Numerals that do not fall under another type\n",
            "monthly DATE Absolute or relative dates or periods\n",
            "one CARDINAL Numerals that do not fall under another type\n"
          ]
        }
      ]
    },
    {
      "cell_type": "code",
      "source": [
        "# many of the predictions are wrong here like for flipkart, walmart, freecharge, unicommerce, gurugram, paytm mall, paytm. \n",
        "ner = nlp.get_pipe('ner')\n",
        "\n",
        "# providing the sample training data\n",
        "data = [\n",
        " (\"Walmart is a leading e-commerce company\", {\"entities\": [(0, 7, \"ORG\")]}),\n",
        " (\"I ordered this from ShopClues\", {\"entities\": [(20,29, \"ORG\")]}),\n",
        " (\"I did a lot of shopping from Flipkart yesterday\", {\"entities\": [(29, 37, \"ORG\")] }),\n",
        " ('My friend recently got a job at Freecharge', {\"entities\": [(32, 42, \"ORG\")] }),\n",
        " ('His cousin lives in Gurugram', {\"entities\": [(20, 28, \"GPE\")] }),\n",
        " (\"Dustin's dad bought a new car\", {\"entities\": [(26, 29, \"PRODUCT\")] }),\n",
        " (\"I rented a camera\", {\"entities\": [(12,18, \"PRODUCT\")]}),\n",
        " (\"I use paytm these days to make transactions\", {\"entities\": [(6,11, \"ORG\")]}),\n",
        " (\"Dad went to Walmart to shop for some stuff\", {\"entities\": [(12, 19, \"ORG\")]}),\n",
        " (\"I bought a old table\", {\"entities\": [(16,21, \"PRODUCT\")]}),\n",
        " (\"I bought a new Washer\", {\"entities\": [(16,22, \"PRODUCT\")]}),\n",
        " (\"I bought a old table\", {\"entities\": [(16,21, \"PRODUCT\")]}),\n",
        " (\"I bought a fancy dress\", {\"entities\": [(18,23, \"PRODUCT\")]}),\n",
        " (\"I repaired my computer\", {\"entities\": [(15,23, \"PRODUCT\")]}),\n",
        " (\"I got my clock fixed\", {\"entities\": [(16,21, \"PRODUCT\")]}),\n",
        " (\"I got my truck fixed\", {\"entities\": [(16,21, \"PRODUCT\")]})\n",
        "]"
      ],
      "metadata": {
        "id": "bsrEYTVNUOFM"
      },
      "execution_count": null,
      "outputs": []
    },
    {
      "cell_type": "code",
      "source": [
        "# x = 'walmart'\n",
        "# t = \"Dad went to Walmart to shop for some stuff\"\n",
        "# print(t.lower().find(x),t.lower().find(x)+len(x) )"
      ],
      "metadata": {
        "id": "u3w9vm7UZPCj"
      },
      "execution_count": null,
      "outputs": []
    },
    {
      "cell_type": "code",
      "source": [
        "# add the above labels to ner \n",
        "\n",
        "for _, annotations in data:\n",
        "  # print(annotations['entities'][0][2])\n",
        "  ner.add_label(annotations['entities'][0][2])"
      ],
      "metadata": {
        "id": "gGfLx7u6ZdtW"
      },
      "execution_count": null,
      "outputs": []
    },
    {
      "cell_type": "code",
      "source": [
        "# disable the pipelines not useful so that they don't get affected in the training\n",
        "\n",
        "pipe_exceptions = [\"ner\", \"trf_wordpiecer\", \"trf_tok2vec\"]\n",
        "unaffected_pipes = [pipe for pipe in nlp.pipe_names if pipe not in pipe_exceptions]"
      ],
      "metadata": {
        "id": "P4Nrr6dDdArP"
      },
      "execution_count": null,
      "outputs": []
    },
    {
      "cell_type": "code",
      "source": [
        "# traning the model\n",
        "\n",
        "import random\n",
        "from tqdm import tqdm\n",
        "\n",
        "with nlp.disable_pipes(*unaffected_pipes):\n",
        "  for iter in range(40):\n",
        "    # shuffle the data\n",
        "    random.shuffle(data)\n",
        "\n",
        "    losses = {}\n",
        "    for text, annotations in tqdm(data):\n",
        "      nlp.update(\n",
        "                [text],  \n",
        "                [annotations],  \n",
        "                drop=0.5,  \n",
        "                losses=losses \n",
        "                 )\n",
        "      print(losses)"
      ],
      "metadata": {
        "colab": {
          "base_uri": "https://localhost:8080/"
        },
        "id": "J7NT95Bxd9CA",
        "outputId": "34235f18-d081-4d95-a287-c0e7072e1a6d"
      },
      "execution_count": null,
      "outputs": [
        {
          "output_type": "stream",
          "name": "stderr",
          "text": [
            " 25%|██▌       | 4/16 [00:00<00:00, 17.19it/s]"
          ]
        },
        {
          "output_type": "stream",
          "name": "stdout",
          "text": [
            "{'ner': 0.0026121617092618177}\n",
            "{'ner': 1.9993276936251865}\n",
            "{'ner': 4.387702379657865}\n",
            "{'ner': 4.498693195157221}\n",
            "{'ner': 4.49877679050997}\n",
            "{'ner': 4.499682158475618}\n"
          ]
        },
        {
          "output_type": "stream",
          "name": "stderr",
          "text": [
            " 62%|██████▎   | 10/16 [00:00<00:00, 23.55it/s]"
          ]
        },
        {
          "output_type": "stream",
          "name": "stdout",
          "text": [
            "{'ner': 6.58180356336519}\n",
            "{'ner': 6.582064164690921}\n",
            "{'ner': 6.58223797604486}\n",
            "{'ner': 6.582243179609324}\n",
            "{'ner': 8.345070246076219}\n",
            "{'ner': 8.345079111915755}\n"
          ]
        },
        {
          "output_type": "stream",
          "name": "stderr",
          "text": [
            "100%|██████████| 16/16 [00:00<00:00, 22.42it/s]\n"
          ]
        },
        {
          "output_type": "stream",
          "name": "stdout",
          "text": [
            "{'ner': 9.556071208448419}\n",
            "{'ner': 9.62745227654306}\n",
            "{'ner': 9.810477374805183}\n",
            "{'ner': 11.8054825858362}\n"
          ]
        },
        {
          "output_type": "stream",
          "name": "stderr",
          "text": [
            "\r  0%|          | 0/16 [00:00<?, ?it/s]"
          ]
        },
        {
          "output_type": "stream",
          "name": "stdout",
          "text": [
            "{'ner': 1.5711730411297267e-05}\n"
          ]
        },
        {
          "output_type": "stream",
          "name": "stderr",
          "text": [
            " 38%|███▊      | 6/16 [00:00<00:00, 26.71it/s]"
          ]
        },
        {
          "output_type": "stream",
          "name": "stdout",
          "text": [
            "{'ner': 1.8678604650759068}\n",
            "{'ner': 3.140131388495172}\n",
            "{'ner': 3.1488567888229597}\n",
            "{'ner': 3.1488585034406444}\n",
            "{'ner': 3.8416721189866494}\n",
            "{'ner': 5.068064136052794}\n"
          ]
        },
        {
          "output_type": "stream",
          "name": "stderr",
          "text": [
            " 75%|███████▌  | 12/16 [00:00<00:00, 25.97it/s]"
          ]
        },
        {
          "output_type": "stream",
          "name": "stdout",
          "text": [
            "{'ner': 5.068115468031652}\n",
            "{'ner': 6.888966740393756}\n",
            "{'ner': 7.160732343027632}\n",
            "{'ner': 9.163984706631416}\n",
            "{'ner': 9.164002323963338}\n",
            "{'ner': 9.16401527785274}\n"
          ]
        },
        {
          "output_type": "stream",
          "name": "stderr",
          "text": [
            "100%|██████████| 16/16 [00:00<00:00, 25.62it/s]\n"
          ]
        },
        {
          "output_type": "stream",
          "name": "stdout",
          "text": [
            "{'ner': 9.164322829885782}\n",
            "{'ner': 9.223744500829456}\n",
            "{'ner': 9.223744843321628}\n"
          ]
        },
        {
          "output_type": "stream",
          "name": "stderr",
          "text": [
            "\r  0%|          | 0/16 [00:00<?, ?it/s]"
          ]
        },
        {
          "output_type": "stream",
          "name": "stdout",
          "text": [
            "{'ner': 1.2140278573546937e-06}\n",
            "{'ner': 1.4785441281431333e-05}\n"
          ]
        },
        {
          "output_type": "stream",
          "name": "stderr",
          "text": [
            " 38%|███▊      | 6/16 [00:00<00:00, 26.76it/s]"
          ]
        },
        {
          "output_type": "stream",
          "name": "stdout",
          "text": [
            "{'ner': 1.6306939844244113}\n",
            "{'ner': 1.6306939897173927}\n",
            "{'ner': 1.6992584262272044}\n",
            "{'ner': 1.6992614591677602}\n",
            "{'ner': 3.446569089445867}\n",
            "{'ner': 3.535730770040965}\n"
          ]
        },
        {
          "output_type": "stream",
          "name": "stderr",
          "text": [
            " 75%|███████▌  | 12/16 [00:00<00:00, 26.61it/s]"
          ]
        },
        {
          "output_type": "stream",
          "name": "stdout",
          "text": [
            "{'ner': 3.5357308199401034}\n",
            "{'ner': 6.75121767077507}\n",
            "{'ner': 6.75121921439964}\n",
            "{'ner': 6.751452102143542}\n",
            "{'ner': 6.76009008416852}\n",
            "{'ner': 6.768500257124096}\n"
          ]
        },
        {
          "output_type": "stream",
          "name": "stderr",
          "text": [
            "100%|██████████| 16/16 [00:00<00:00, 25.69it/s]\n"
          ]
        },
        {
          "output_type": "stream",
          "name": "stdout",
          "text": [
            "{'ner': 8.494076207517796}\n",
            "{'ner': 8.494121761206795}\n"
          ]
        },
        {
          "output_type": "stream",
          "name": "stderr",
          "text": [
            "\r  0%|          | 0/16 [00:00<?, ?it/s]"
          ]
        },
        {
          "output_type": "stream",
          "name": "stdout",
          "text": [
            "{'ner': 0.002141075677131339}\n",
            "{'ner': 0.0021821498978204525}\n"
          ]
        },
        {
          "output_type": "stream",
          "name": "stderr",
          "text": [
            "\r 19%|█▉        | 3/16 [00:00<00:00, 25.42it/s]"
          ]
        },
        {
          "output_type": "stream",
          "name": "stdout",
          "text": [
            "{'ner': 0.14020985887219933}\n"
          ]
        },
        {
          "output_type": "stream",
          "name": "stderr",
          "text": [
            "\r 38%|███▊      | 6/16 [00:00<00:00, 26.04it/s]"
          ]
        },
        {
          "output_type": "stream",
          "name": "stdout",
          "text": [
            "{'ner': 0.24831822239752202}\n",
            "{'ner': 0.24841530605247558}\n",
            "{'ner': 0.2502384486926178}\n",
            "{'ner': 0.2502398011030166}\n",
            "{'ner': 4.148306916229428}\n"
          ]
        },
        {
          "output_type": "stream",
          "name": "stderr",
          "text": [
            "\r 56%|█████▋    | 9/16 [00:00<00:00, 25.54it/s]"
          ]
        },
        {
          "output_type": "stream",
          "name": "stdout",
          "text": [
            "{'ner': 4.148309208185621}\n"
          ]
        },
        {
          "output_type": "stream",
          "name": "stderr",
          "text": [
            "\r 75%|███████▌  | 12/16 [00:00<00:00, 25.37it/s]"
          ]
        },
        {
          "output_type": "stream",
          "name": "stdout",
          "text": [
            "{'ner': 4.148309214278313}\n",
            "{'ner': 4.288838852643076}\n",
            "{'ner': 4.698988159148629}\n",
            "{'ner': 4.698992054103336}\n"
          ]
        },
        {
          "output_type": "stream",
          "name": "stderr",
          "text": [
            "\r 94%|█████████▍| 15/16 [00:00<00:00, 25.20it/s]"
          ]
        },
        {
          "output_type": "stream",
          "name": "stdout",
          "text": [
            "{'ner': 4.701335956319129}\n",
            "{'ner': 4.99693732429961}\n"
          ]
        },
        {
          "output_type": "stream",
          "name": "stderr",
          "text": [
            "\r100%|██████████| 16/16 [00:00<00:00, 25.15it/s]\n"
          ]
        },
        {
          "output_type": "stream",
          "name": "stdout",
          "text": [
            "{'ner': 4.997076849065982}\n"
          ]
        },
        {
          "output_type": "stream",
          "name": "stderr",
          "text": [
            "\r  0%|          | 0/16 [00:00<?, ?it/s]"
          ]
        },
        {
          "output_type": "stream",
          "name": "stdout",
          "text": [
            "{'ner': 4.993539926727471e-06}\n",
            "{'ner': 4.993885189884384e-06}\n"
          ]
        },
        {
          "output_type": "stream",
          "name": "stderr",
          "text": [
            "\r 19%|█▉        | 3/16 [00:00<00:00, 24.63it/s]"
          ]
        },
        {
          "output_type": "stream",
          "name": "stdout",
          "text": [
            "{'ner': 1.9245390384113268}\n",
            "{'ner': 1.9245742219592614}\n",
            "{'ner': 1.9252991200445095}\n"
          ]
        },
        {
          "output_type": "stream",
          "name": "stderr",
          "text": [
            "\r 38%|███▊      | 6/16 [00:00<00:00, 23.20it/s]"
          ]
        },
        {
          "output_type": "stream",
          "name": "stdout",
          "text": [
            "{'ner': 1.9252999260032646}\n",
            "{'ner': 1.925299926040754}\n"
          ]
        },
        {
          "output_type": "stream",
          "name": "stderr",
          "text": [
            "\r 56%|█████▋    | 9/16 [00:00<00:00, 23.57it/s]"
          ]
        },
        {
          "output_type": "stream",
          "name": "stdout",
          "text": [
            "{'ner': 1.9252999287707668}\n",
            "{'ner': 2.5183603875436837}\n",
            "{'ner': 2.5204289215726132}\n"
          ]
        },
        {
          "output_type": "stream",
          "name": "stderr",
          "text": [
            "\r 75%|███████▌  | 12/16 [00:00<00:00, 24.05it/s]"
          ]
        },
        {
          "output_type": "stream",
          "name": "stdout",
          "text": [
            "{'ner': 4.490763916970595}\n",
            "{'ner': 4.490782300706978}\n",
            "{'ner': 5.369629918944072}\n"
          ]
        },
        {
          "output_type": "stream",
          "name": "stderr",
          "text": [
            "\r 94%|█████████▍| 15/16 [00:00<00:00, 24.60it/s]"
          ]
        },
        {
          "output_type": "stream",
          "name": "stdout",
          "text": [
            "{'ner': 5.369655180622132}\n",
            "{'ner': 5.371721553466658}\n"
          ]
        },
        {
          "output_type": "stream",
          "name": "stderr",
          "text": [
            "\r100%|██████████| 16/16 [00:00<00:00, 24.25it/s]\n"
          ]
        },
        {
          "output_type": "stream",
          "name": "stdout",
          "text": [
            "{'ner': 6.661920753931579}\n"
          ]
        },
        {
          "output_type": "stream",
          "name": "stderr",
          "text": [
            "\r  0%|          | 0/16 [00:00<?, ?it/s]"
          ]
        },
        {
          "output_type": "stream",
          "name": "stdout",
          "text": [
            "{'ner': 0.00399829534027552}\n",
            "{'ner': 0.014747172680566436}\n"
          ]
        },
        {
          "output_type": "stream",
          "name": "stderr",
          "text": [
            "\r 19%|█▉        | 3/16 [00:00<00:00, 22.19it/s]"
          ]
        },
        {
          "output_type": "stream",
          "name": "stdout",
          "text": [
            "{'ner': 0.014747172681340393}\n",
            "{'ner': 0.014768788163761155}\n"
          ]
        },
        {
          "output_type": "stream",
          "name": "stderr",
          "text": [
            "\r 38%|███▊      | 6/16 [00:00<00:00, 24.53it/s]"
          ]
        },
        {
          "output_type": "stream",
          "name": "stdout",
          "text": [
            "{'ner': 0.01478042204711652}\n",
            "{'ner': 0.014780445747185268}\n",
            "{'ner': 1.3451610305013666}\n",
            "{'ner': 1.5836752141555914}\n"
          ]
        },
        {
          "output_type": "stream",
          "name": "stderr",
          "text": [
            "\r 56%|█████▋    | 9/16 [00:00<00:00, 24.63it/s]"
          ]
        },
        {
          "output_type": "stream",
          "name": "stdout",
          "text": [
            "{'ner': 1.5837161343050232}\n",
            "{'ner': 1.583717277253691}\n"
          ]
        },
        {
          "output_type": "stream",
          "name": "stderr",
          "text": [
            "\r 75%|███████▌  | 12/16 [00:00<00:00, 25.09it/s]"
          ]
        },
        {
          "output_type": "stream",
          "name": "stdout",
          "text": [
            "{'ner': 1.5837255324157413}\n",
            "{'ner': 5.34243127565936}\n",
            "{'ner': 5.342517983721664}\n",
            "{'ner': 5.342519669188254}\n"
          ]
        },
        {
          "output_type": "stream",
          "name": "stderr",
          "text": [
            "100%|██████████| 16/16 [00:00<00:00, 25.02it/s]\n"
          ]
        },
        {
          "output_type": "stream",
          "name": "stdout",
          "text": [
            "{'ner': 5.342686280950928}\n",
            "{'ner': 5.342686291453228}\n"
          ]
        },
        {
          "output_type": "stream",
          "name": "stderr",
          "text": [
            "\r  0%|          | 0/16 [00:00<?, ?it/s]"
          ]
        },
        {
          "output_type": "stream",
          "name": "stdout",
          "text": [
            "{'ner': 4.2029247002787826e-07}\n",
            "{'ner': 4.21594137585866e-07}\n"
          ]
        },
        {
          "output_type": "stream",
          "name": "stderr",
          "text": [
            "\r 19%|█▉        | 3/16 [00:00<00:00, 26.14it/s]"
          ]
        },
        {
          "output_type": "stream",
          "name": "stdout",
          "text": [
            "{'ner': 0.13980535892942908}\n"
          ]
        },
        {
          "output_type": "stream",
          "name": "stderr",
          "text": [
            "\r 38%|███▊      | 6/16 [00:00<00:00, 25.00it/s]"
          ]
        },
        {
          "output_type": "stream",
          "name": "stdout",
          "text": [
            "{'ner': 2.0886080016634}\n",
            "{'ner': 2.9683032900835196}\n",
            "{'ner': 2.968303584994227}\n",
            "{'ner': 3.0182195126681335}\n"
          ]
        },
        {
          "output_type": "stream",
          "name": "stderr",
          "text": [
            "\r 56%|█████▋    | 9/16 [00:00<00:00, 25.03it/s]"
          ]
        },
        {
          "output_type": "stream",
          "name": "stdout",
          "text": [
            "{'ner': 3.062885641133835}\n",
            "{'ner': 3.0628856674881066}\n"
          ]
        },
        {
          "output_type": "stream",
          "name": "stderr",
          "text": [
            "\r 75%|███████▌  | 12/16 [00:00<00:00, 25.32it/s]"
          ]
        },
        {
          "output_type": "stream",
          "name": "stdout",
          "text": [
            "{'ner': 3.0628885354293582}\n",
            "{'ner': 3.062890614091388}\n",
            "{'ner': 3.0628906426910496}\n",
            "{'ner': 4.205806967158656}\n"
          ]
        },
        {
          "output_type": "stream",
          "name": "stderr",
          "text": [
            "\r 94%|█████████▍| 15/16 [00:00<00:00, 24.58it/s]"
          ]
        },
        {
          "output_type": "stream",
          "name": "stdout",
          "text": [
            "{'ner': 4.205806967164215}\n",
            "{'ner': 4.205828670469378}\n"
          ]
        },
        {
          "output_type": "stream",
          "name": "stderr",
          "text": [
            "\r100%|██████████| 16/16 [00:00<00:00, 24.69it/s]\n"
          ]
        },
        {
          "output_type": "stream",
          "name": "stdout",
          "text": [
            "{'ner': 4.205843953928189}\n"
          ]
        },
        {
          "output_type": "stream",
          "name": "stderr",
          "text": [
            "\r  0%|          | 0/16 [00:00<?, ?it/s]"
          ]
        },
        {
          "output_type": "stream",
          "name": "stdout",
          "text": [
            "{'ner': 3.112486552294338e-07}\n",
            "{'ner': 5.451460869868478e-07}\n"
          ]
        },
        {
          "output_type": "stream",
          "name": "stderr",
          "text": [
            "\r 19%|█▉        | 3/16 [00:00<00:00, 26.55it/s]"
          ]
        },
        {
          "output_type": "stream",
          "name": "stdout",
          "text": [
            "{'ner': 5.886296498031053e-07}\n",
            "{'ner': 0.027105183164560336}\n",
            "{'ner': 1.1127010367253234}\n"
          ]
        },
        {
          "output_type": "stream",
          "name": "stderr",
          "text": [
            "\r 38%|███▊      | 6/16 [00:00<00:00, 25.83it/s]"
          ]
        },
        {
          "output_type": "stream",
          "name": "stdout",
          "text": [
            "{'ner': 3.0406244187105056}\n",
            "{'ner': 3.0653313410910266}\n"
          ]
        },
        {
          "output_type": "stream",
          "name": "stderr",
          "text": [
            "\r 56%|█████▋    | 9/16 [00:00<00:00, 25.35it/s]"
          ]
        },
        {
          "output_type": "stream",
          "name": "stdout",
          "text": [
            "{'ner': 3.065656023551525}\n",
            "{'ner': 3.0656560307733423}\n",
            "{'ner': 3.065656824564603}\n",
            "{'ner': 4.0620348346610236}\n"
          ]
        },
        {
          "output_type": "stream",
          "name": "stderr",
          "text": [
            "\r 75%|███████▌  | 12/16 [00:00<00:00, 25.51it/s]"
          ]
        },
        {
          "output_type": "stream",
          "name": "stdout",
          "text": [
            "{'ner': 4.062700296731969}\n",
            "{'ner': 4.062700300407283}\n"
          ]
        },
        {
          "output_type": "stream",
          "name": "stderr",
          "text": [
            "100%|██████████| 16/16 [00:00<00:00, 25.39it/s]\n"
          ]
        },
        {
          "output_type": "stream",
          "name": "stdout",
          "text": [
            "{'ner': 4.062700330718898}\n",
            "{'ner': 4.062758117066222}\n",
            "{'ner': 4.062758322241463}\n"
          ]
        },
        {
          "output_type": "stream",
          "name": "stderr",
          "text": [
            "\r  0%|          | 0/16 [00:00<?, ?it/s]"
          ]
        },
        {
          "output_type": "stream",
          "name": "stdout",
          "text": [
            "{'ner': 4.3817738550917936e-11}\n",
            "{'ner': 5.7999686879672764e-11}\n"
          ]
        },
        {
          "output_type": "stream",
          "name": "stderr",
          "text": [
            "\r 19%|█▉        | 3/16 [00:00<00:00, 24.86it/s]"
          ]
        },
        {
          "output_type": "stream",
          "name": "stdout",
          "text": [
            "{'ner': 2.003620996082141}\n",
            "{'ner': 2.0036210852534246}\n",
            "{'ner': 2.0060151572839358}\n"
          ]
        },
        {
          "output_type": "stream",
          "name": "stderr",
          "text": [
            "\r 38%|███▊      | 6/16 [00:00<00:00, 24.15it/s]"
          ]
        },
        {
          "output_type": "stream",
          "name": "stdout",
          "text": [
            "{'ner': 3.771563334454533}\n",
            "{'ner': 3.7715634969758924}\n"
          ]
        },
        {
          "output_type": "stream",
          "name": "stderr",
          "text": [
            "\r 56%|█████▋    | 9/16 [00:00<00:00, 24.69it/s]"
          ]
        },
        {
          "output_type": "stream",
          "name": "stdout",
          "text": [
            "{'ner': 3.771590690874677}\n",
            "{'ner': 3.7715907837915714}\n",
            "{'ner': 3.7715910989414936}\n",
            "{'ner': 3.771591148894718}\n"
          ]
        },
        {
          "output_type": "stream",
          "name": "stderr",
          "text": [
            "\r 75%|███████▌  | 12/16 [00:00<00:00, 25.23it/s]"
          ]
        },
        {
          "output_type": "stream",
          "name": "stdout",
          "text": [
            "{'ner': 3.7718988990103846}\n",
            "{'ner': 3.7719009246475577}\n"
          ]
        },
        {
          "output_type": "stream",
          "name": "stderr",
          "text": [
            "100%|██████████| 16/16 [00:00<00:00, 24.46it/s]\n"
          ]
        },
        {
          "output_type": "stream",
          "name": "stdout",
          "text": [
            "{'ner': 3.8890062926000106}\n",
            "{'ner': 3.8890063108219257}\n",
            "{'ner': 4.866809674789229}\n"
          ]
        },
        {
          "output_type": "stream",
          "name": "stderr",
          "text": [
            "\r  0%|          | 0/16 [00:00<?, ?it/s]"
          ]
        },
        {
          "output_type": "stream",
          "name": "stdout",
          "text": [
            "{'ner': 2.463608986935363e-10}\n",
            "{'ner': 9.717914011945925e-05}\n"
          ]
        },
        {
          "output_type": "stream",
          "name": "stderr",
          "text": [
            " 38%|███▊      | 6/16 [00:00<00:00, 26.86it/s]"
          ]
        },
        {
          "output_type": "stream",
          "name": "stdout",
          "text": [
            "{'ner': 0.00935556511260912}\n",
            "{'ner': 0.009356316556004222}\n",
            "{'ner': 0.009356366355080244}\n",
            "{'ner': 0.00935830248906073}\n",
            "{'ner': 0.009376977641193}\n",
            "{'ner': 0.1578532493060759}\n"
          ]
        },
        {
          "output_type": "stream",
          "name": "stderr",
          "text": [
            " 75%|███████▌  | 12/16 [00:00<00:00, 25.68it/s]"
          ]
        },
        {
          "output_type": "stream",
          "name": "stdout",
          "text": [
            "{'ner': 0.1578579470424879}\n",
            "{'ner': 0.15785794742683537}\n",
            "{'ner': 3.808124356635388}\n",
            "{'ner': 3.8081248738344438}\n",
            "{'ner': 3.808125188979026}\n",
            "{'ner': 3.8081251904914013}\n"
          ]
        },
        {
          "output_type": "stream",
          "name": "stderr",
          "text": [
            "100%|██████████| 16/16 [00:00<00:00, 25.56it/s]\n"
          ]
        },
        {
          "output_type": "stream",
          "name": "stdout",
          "text": [
            "{'ner': 3.808125190773747}\n",
            "{'ner': 3.8081252544398247}\n"
          ]
        },
        {
          "output_type": "stream",
          "name": "stderr",
          "text": [
            "\r  0%|          | 0/16 [00:00<?, ?it/s]"
          ]
        },
        {
          "output_type": "stream",
          "name": "stdout",
          "text": [
            "{'ner': 2.1053410693893832e-11}\n",
            "{'ner': 1.3619539840802203e-10}\n"
          ]
        },
        {
          "output_type": "stream",
          "name": "stderr",
          "text": [
            "\r 19%|█▉        | 3/16 [00:00<00:00, 25.36it/s]"
          ]
        },
        {
          "output_type": "stream",
          "name": "stdout",
          "text": [
            "{'ner': 0.06197228947546731}\n"
          ]
        },
        {
          "output_type": "stream",
          "name": "stderr",
          "text": [
            "\r 38%|███▊      | 6/16 [00:00<00:00, 26.78it/s]"
          ]
        },
        {
          "output_type": "stream",
          "name": "stdout",
          "text": [
            "{'ner': 0.0619723257315521}\n",
            "{'ner': 0.06197239671835857}\n",
            "{'ner': 0.19447047575394666}\n",
            "{'ner': 0.19448774583124817}\n",
            "{'ner': 0.19448776924002042}\n"
          ]
        },
        {
          "output_type": "stream",
          "name": "stderr",
          "text": [
            "\r 56%|█████▋    | 9/16 [00:00<00:00, 25.81it/s]"
          ]
        },
        {
          "output_type": "stream",
          "name": "stdout",
          "text": [
            "{'ner': 0.19448776942096843}\n"
          ]
        },
        {
          "output_type": "stream",
          "name": "stderr",
          "text": [
            "\r 75%|███████▌  | 12/16 [00:00<00:00, 26.09it/s]"
          ]
        },
        {
          "output_type": "stream",
          "name": "stdout",
          "text": [
            "{'ner': 2.481970214949733}\n",
            "{'ner': 2.4819703661577184}\n",
            "{'ner': 2.4821335416594494}\n",
            "{'ner': 2.482133541931709}\n"
          ]
        },
        {
          "output_type": "stream",
          "name": "stderr",
          "text": [
            "\r 94%|█████████▍| 15/16 [00:00<00:00, 25.23it/s]"
          ]
        },
        {
          "output_type": "stream",
          "name": "stdout",
          "text": [
            "{'ner': 2.4828104715334813}\n",
            "{'ner': 2.482810675972278}\n"
          ]
        },
        {
          "output_type": "stream",
          "name": "stderr",
          "text": [
            "\r100%|██████████| 16/16 [00:00<00:00, 25.49it/s]\n"
          ]
        },
        {
          "output_type": "stream",
          "name": "stdout",
          "text": [
            "{'ner': 2.482810749456121}\n"
          ]
        },
        {
          "output_type": "stream",
          "name": "stderr",
          "text": [
            "\r  0%|          | 0/16 [00:00<?, ?it/s]"
          ]
        },
        {
          "output_type": "stream",
          "name": "stdout",
          "text": [
            "{'ner': 2.258232643672284e-09}\n"
          ]
        },
        {
          "output_type": "stream",
          "name": "stderr",
          "text": [
            "\r 19%|█▉        | 3/16 [00:00<00:00, 26.15it/s]"
          ]
        },
        {
          "output_type": "stream",
          "name": "stdout",
          "text": [
            "{'ner': 0.00196923052497306}\n",
            "{'ner': 0.0019692307875394006}\n",
            "{'ner': 0.0019693776540740076}\n"
          ]
        },
        {
          "output_type": "stream",
          "name": "stderr",
          "text": [
            "\r 38%|███▊      | 6/16 [00:00<00:00, 25.80it/s]"
          ]
        },
        {
          "output_type": "stream",
          "name": "stdout",
          "text": [
            "{'ner': 0.002011421513866079}\n",
            "{'ner': 0.0020114215142023606}\n",
            "{'ner': 0.4392905037537538}\n"
          ]
        },
        {
          "output_type": "stream",
          "name": "stderr",
          "text": [
            "\r 56%|█████▋    | 9/16 [00:00<00:00, 24.64it/s]"
          ]
        },
        {
          "output_type": "stream",
          "name": "stdout",
          "text": [
            "{'ner': 0.43929052087087767}\n",
            "{'ner': 0.4392905209543804}\n"
          ]
        },
        {
          "output_type": "stream",
          "name": "stderr",
          "text": [
            "\r 75%|███████▌  | 12/16 [00:00<00:00, 25.53it/s]"
          ]
        },
        {
          "output_type": "stream",
          "name": "stdout",
          "text": [
            "{'ner': 0.43929061188847335}\n",
            "{'ner': 0.4392906342071208}\n",
            "{'ner': 0.43929063582525263}\n",
            "{'ner': 0.4427186611857673}\n"
          ]
        },
        {
          "output_type": "stream",
          "name": "stderr",
          "text": [
            "\r 94%|█████████▍| 15/16 [00:00<00:00, 25.68it/s]"
          ]
        },
        {
          "output_type": "stream",
          "name": "stdout",
          "text": [
            "{'ner': 0.4427186655689266}\n",
            "{'ner': 0.44271866741625093}\n"
          ]
        },
        {
          "output_type": "stream",
          "name": "stderr",
          "text": [
            "\r100%|██████████| 16/16 [00:00<00:00, 25.33it/s]\n"
          ]
        },
        {
          "output_type": "stream",
          "name": "stdout",
          "text": [
            "{'ner': 0.4427186739907757}\n"
          ]
        },
        {
          "output_type": "stream",
          "name": "stderr",
          "text": [
            "\r  0%|          | 0/16 [00:00<?, ?it/s]"
          ]
        },
        {
          "output_type": "stream",
          "name": "stdout",
          "text": [
            "{'ner': 5.752730473711923e-10}\n",
            "{'ner': 5.948172653651396e-10}\n"
          ]
        },
        {
          "output_type": "stream",
          "name": "stderr",
          "text": [
            "\r 19%|█▉        | 3/16 [00:00<00:00, 24.92it/s]"
          ]
        },
        {
          "output_type": "stream",
          "name": "stdout",
          "text": [
            "{'ner': 0.00029230629562395364}\n",
            "{'ner': 0.0002923063230413065}\n"
          ]
        },
        {
          "output_type": "stream",
          "name": "stderr",
          "text": [
            "\r 38%|███▊      | 6/16 [00:00<00:00, 26.06it/s]"
          ]
        },
        {
          "output_type": "stream",
          "name": "stdout",
          "text": [
            "{'ner': 0.00029230632316131264}\n",
            "{'ner': 0.000292306356961628}\n",
            "{'ner': 0.0002923063570097395}\n",
            "{'ner': 0.0002959224073363005}\n"
          ]
        },
        {
          "output_type": "stream",
          "name": "stderr",
          "text": [
            "\r 56%|█████▋    | 9/16 [00:00<00:00, 25.27it/s]"
          ]
        },
        {
          "output_type": "stream",
          "name": "stdout",
          "text": [
            "{'ner': 0.0010705283752414129}\n",
            "{'ner': 0.0010705283752525125}\n",
            "{'ner': 0.0029705234217584898}\n"
          ]
        },
        {
          "output_type": "stream",
          "name": "stderr",
          "text": [
            "\r 75%|███████▌  | 12/16 [00:00<00:00, 24.90it/s]"
          ]
        },
        {
          "output_type": "stream",
          "name": "stdout",
          "text": [
            "{'ner': 0.0029705338209918427}\n",
            "{'ner': 0.0029705346243795692}\n"
          ]
        },
        {
          "output_type": "stream",
          "name": "stderr",
          "text": [
            "100%|██████████| 16/16 [00:00<00:00, 25.08it/s]\n"
          ]
        },
        {
          "output_type": "stream",
          "name": "stdout",
          "text": [
            "{'ner': 1.8607911329554125}\n",
            "{'ner': 1.860791132955414}\n",
            "{'ner': 1.8607930585193424}\n"
          ]
        },
        {
          "output_type": "stream",
          "name": "stderr",
          "text": [
            "\r  0%|          | 0/16 [00:00<?, ?it/s]"
          ]
        },
        {
          "output_type": "stream",
          "name": "stdout",
          "text": [
            "{'ner': 0.050150029361252985}\n",
            "{'ner': 0.05015003149765386}\n"
          ]
        },
        {
          "output_type": "stream",
          "name": "stderr",
          "text": [
            " 38%|███▊      | 6/16 [00:00<00:00, 25.07it/s]"
          ]
        },
        {
          "output_type": "stream",
          "name": "stdout",
          "text": [
            "{'ner': 0.06039313542360647}\n",
            "{'ner': 1.5793780927270817}\n",
            "{'ner': 1.579378220788256}\n",
            "{'ner': 1.5793782366864908}\n",
            "{'ner': 1.5811649385165476}\n",
            "{'ner': 1.5811649480999668}\n"
          ]
        },
        {
          "output_type": "stream",
          "name": "stderr",
          "text": [
            " 75%|███████▌  | 12/16 [00:00<00:00, 25.77it/s]"
          ]
        },
        {
          "output_type": "stream",
          "name": "stdout",
          "text": [
            "{'ner': 1.5811649500995733}\n",
            "{'ner': 1.5811650982352132}\n",
            "{'ner': 1.5811650985863233}\n",
            "{'ner': 1.5811651019295991}\n",
            "{'ner': 1.5811654755361355}\n",
            "{'ner': 1.5811654764958614}\n"
          ]
        },
        {
          "output_type": "stream",
          "name": "stderr",
          "text": [
            "100%|██████████| 16/16 [00:00<00:00, 24.99it/s]\n"
          ]
        },
        {
          "output_type": "stream",
          "name": "stdout",
          "text": [
            "{'ner': 1.581165487411802}\n",
            "{'ner': 1.5811699443834326}\n"
          ]
        },
        {
          "output_type": "stream",
          "name": "stderr",
          "text": [
            "\r  0%|          | 0/16 [00:00<?, ?it/s]"
          ]
        },
        {
          "output_type": "stream",
          "name": "stdout",
          "text": [
            "{'ner': 1.3298338975367093e-06}\n",
            "{'ner': 4.6419006526562965e-05}\n"
          ]
        },
        {
          "output_type": "stream",
          "name": "stderr",
          "text": [
            "\r 19%|█▉        | 3/16 [00:00<00:00, 23.79it/s]"
          ]
        },
        {
          "output_type": "stream",
          "name": "stdout",
          "text": [
            "{'ner': 4.641900660362878e-05}\n"
          ]
        },
        {
          "output_type": "stream",
          "name": "stderr",
          "text": [
            "\r 38%|███▊      | 6/16 [00:00<00:00, 25.47it/s]"
          ]
        },
        {
          "output_type": "stream",
          "name": "stdout",
          "text": [
            "{'ner': 4.641901020826979e-05}\n",
            "{'ner': 4.7206409732241904e-05}\n",
            "{'ner': 4.747631580545023e-05}\n",
            "{'ner': 0.00037122737835748604}\n",
            "{'ner': 0.00037123362665596085}\n"
          ]
        },
        {
          "output_type": "stream",
          "name": "stderr",
          "text": [
            "\r 56%|█████▋    | 9/16 [00:00<00:00, 24.82it/s]"
          ]
        },
        {
          "output_type": "stream",
          "name": "stdout",
          "text": [
            "{'ner': 0.002104887468405666}\n"
          ]
        },
        {
          "output_type": "stream",
          "name": "stderr",
          "text": [
            "\r 75%|███████▌  | 12/16 [00:00<00:00, 24.79it/s]"
          ]
        },
        {
          "output_type": "stream",
          "name": "stdout",
          "text": [
            "{'ner': 0.01917860138189031}\n",
            "{'ner': 0.019179770122389125}\n",
            "{'ner': 0.019806384788301087}\n",
            "{'ner': 0.019806387410895732}\n",
            "{'ner': 0.019806405074637674}\n"
          ]
        },
        {
          "output_type": "stream",
          "name": "stderr",
          "text": [
            "\r 94%|█████████▍| 15/16 [00:00<00:00, 24.96it/s]"
          ]
        },
        {
          "output_type": "stream",
          "name": "stdout",
          "text": [
            "{'ner': 0.01980684808353215}\n"
          ]
        },
        {
          "output_type": "stream",
          "name": "stderr",
          "text": [
            "\r100%|██████████| 16/16 [00:00<00:00, 24.61it/s]\n"
          ]
        },
        {
          "output_type": "stream",
          "name": "stdout",
          "text": [
            "{'ner': 0.019806863488894322}\n"
          ]
        },
        {
          "output_type": "stream",
          "name": "stderr",
          "text": [
            "\r  0%|          | 0/16 [00:00<?, ?it/s]"
          ]
        },
        {
          "output_type": "stream",
          "name": "stdout",
          "text": [
            "{'ner': 2.1513000547672008e-07}\n",
            "{'ner': 1.9469405179853512}\n"
          ]
        },
        {
          "output_type": "stream",
          "name": "stderr",
          "text": [
            "\r 19%|█▉        | 3/16 [00:00<00:00, 22.69it/s]"
          ]
        },
        {
          "output_type": "stream",
          "name": "stdout",
          "text": [
            "{'ner': 1.9491933663459957}\n",
            "{'ner': 1.9491937118091578}\n",
            "{'ner': 1.9491950731346017}\n"
          ]
        },
        {
          "output_type": "stream",
          "name": "stderr",
          "text": [
            "\r 38%|███▊      | 6/16 [00:00<00:00, 23.54it/s]"
          ]
        },
        {
          "output_type": "stream",
          "name": "stdout",
          "text": [
            "{'ner': 3.672191745191479}\n",
            "{'ner': 3.672191745305347}\n"
          ]
        },
        {
          "output_type": "stream",
          "name": "stderr",
          "text": [
            "\r 56%|█████▋    | 9/16 [00:00<00:00, 23.89it/s]"
          ]
        },
        {
          "output_type": "stream",
          "name": "stdout",
          "text": [
            "{'ner': 3.672198895929404}\n",
            "{'ner': 3.6722049525282294}\n",
            "{'ner': 3.672209340283311}\n"
          ]
        },
        {
          "output_type": "stream",
          "name": "stderr",
          "text": [
            "\r 75%|███████▌  | 12/16 [00:00<00:00, 24.49it/s]"
          ]
        },
        {
          "output_type": "stream",
          "name": "stdout",
          "text": [
            "{'ner': 3.6722093402846}\n",
            "{'ner': 3.6722620257725316}\n",
            "{'ner': 3.6722620286886833}\n"
          ]
        },
        {
          "output_type": "stream",
          "name": "stderr",
          "text": [
            "\r 94%|█████████▍| 15/16 [00:00<00:00, 25.13it/s]"
          ]
        },
        {
          "output_type": "stream",
          "name": "stdout",
          "text": [
            "{'ner': 3.672262064371954}\n",
            "{'ner': 3.6722620646411426}\n"
          ]
        },
        {
          "output_type": "stream",
          "name": "stderr",
          "text": [
            "\r100%|██████████| 16/16 [00:00<00:00, 24.12it/s]\n"
          ]
        },
        {
          "output_type": "stream",
          "name": "stdout",
          "text": [
            "{'ner': 3.67351063098899}\n"
          ]
        },
        {
          "output_type": "stream",
          "name": "stderr",
          "text": [
            "\r  0%|          | 0/16 [00:00<?, ?it/s]"
          ]
        },
        {
          "output_type": "stream",
          "name": "stdout",
          "text": [
            "{'ner': 2.787082284830028e-18}\n",
            "{'ner': 0.2274422856823974}\n"
          ]
        },
        {
          "output_type": "stream",
          "name": "stderr",
          "text": [
            "\r 19%|█▉        | 3/16 [00:00<00:00, 22.31it/s]"
          ]
        },
        {
          "output_type": "stream",
          "name": "stdout",
          "text": [
            "{'ner': 0.22744228570881347}\n",
            "{'ner': 0.2274442905116077}\n"
          ]
        },
        {
          "output_type": "stream",
          "name": "stderr",
          "text": [
            "\r 38%|███▊      | 6/16 [00:00<00:00, 24.93it/s]"
          ]
        },
        {
          "output_type": "stream",
          "name": "stdout",
          "text": [
            "{'ner': 0.22747596995386132}\n",
            "{'ner': 0.22747596995399566}\n",
            "{'ner': 0.22747597024915703}\n",
            "{'ner': 0.22747597576367307}\n"
          ]
        },
        {
          "output_type": "stream",
          "name": "stderr",
          "text": [
            "\r 56%|█████▋    | 9/16 [00:00<00:00, 24.93it/s]"
          ]
        },
        {
          "output_type": "stream",
          "name": "stdout",
          "text": [
            "{'ner': 0.22747839441156575}\n",
            "{'ner': 0.22790691238009514}\n"
          ]
        },
        {
          "output_type": "stream",
          "name": "stderr",
          "text": [
            "\r 75%|███████▌  | 12/16 [00:00<00:00, 25.41it/s]"
          ]
        },
        {
          "output_type": "stream",
          "name": "stdout",
          "text": [
            "{'ner': 0.22790716575513054}\n",
            "{'ner': 0.22790885380295292}\n",
            "{'ner': 0.2279100729757879}\n",
            "{'ner': 0.22791007299444385}\n"
          ]
        },
        {
          "output_type": "stream",
          "name": "stderr",
          "text": [
            "100%|██████████| 16/16 [00:00<00:00, 25.00it/s]\n"
          ]
        },
        {
          "output_type": "stream",
          "name": "stdout",
          "text": [
            "{'ner': 0.22791007402634816}\n",
            "{'ner': 0.2279100746820614}\n"
          ]
        },
        {
          "output_type": "stream",
          "name": "stderr",
          "text": [
            "\r  0%|          | 0/16 [00:00<?, ?it/s]"
          ]
        },
        {
          "output_type": "stream",
          "name": "stdout",
          "text": [
            "{'ner': 2.5546617529991527e-09}\n",
            "{'ner': 2.5566949792460874e-09}\n"
          ]
        },
        {
          "output_type": "stream",
          "name": "stderr",
          "text": [
            "\r 19%|█▉        | 3/16 [00:00<00:00, 25.41it/s]"
          ]
        },
        {
          "output_type": "stream",
          "name": "stdout",
          "text": [
            "{'ner': 0.020421932487175318}\n"
          ]
        },
        {
          "output_type": "stream",
          "name": "stderr",
          "text": [
            "\r 38%|███▊      | 6/16 [00:00<00:00, 26.95it/s]"
          ]
        },
        {
          "output_type": "stream",
          "name": "stdout",
          "text": [
            "{'ner': 0.02042193743328432}\n",
            "{'ner': 0.020421937490649113}\n",
            "{'ner': 0.020421938321914645}\n",
            "{'ner': 0.02042194431545248}\n",
            "{'ner': 0.02042209006862959}\n"
          ]
        },
        {
          "output_type": "stream",
          "name": "stderr",
          "text": [
            "\r 56%|█████▋    | 9/16 [00:00<00:00, 26.49it/s]"
          ]
        },
        {
          "output_type": "stream",
          "name": "stdout",
          "text": [
            "{'ner': 0.020422090069148396}\n"
          ]
        },
        {
          "output_type": "stream",
          "name": "stderr",
          "text": [
            "\r 75%|███████▌  | 12/16 [00:00<00:00, 26.61it/s]"
          ]
        },
        {
          "output_type": "stream",
          "name": "stdout",
          "text": [
            "{'ner': 0.02042209977665062}\n",
            "{'ner': 0.020422099776850673}\n",
            "{'ner': 0.02133624783300642}\n",
            "{'ner': 1.8561385291911467}\n"
          ]
        },
        {
          "output_type": "stream",
          "name": "stderr",
          "text": [
            "\r 94%|█████████▍| 15/16 [00:00<00:00, 25.80it/s]"
          ]
        },
        {
          "output_type": "stream",
          "name": "stdout",
          "text": [
            "{'ner': 1.8561385511726465}\n",
            "{'ner': 1.856138551173373}\n"
          ]
        },
        {
          "output_type": "stream",
          "name": "stderr",
          "text": [
            "\r100%|██████████| 16/16 [00:00<00:00, 25.84it/s]\n"
          ]
        },
        {
          "output_type": "stream",
          "name": "stdout",
          "text": [
            "{'ner': 1.856138551173728}\n"
          ]
        },
        {
          "output_type": "stream",
          "name": "stderr",
          "text": [
            "\r  0%|          | 0/16 [00:00<?, ?it/s]"
          ]
        },
        {
          "output_type": "stream",
          "name": "stdout",
          "text": [
            "{'ner': 0.06999151252582149}\n",
            "{'ner': 0.06999151282500743}\n"
          ]
        },
        {
          "output_type": "stream",
          "name": "stderr",
          "text": [
            "\r 19%|█▉        | 3/16 [00:00<00:00, 26.24it/s]"
          ]
        },
        {
          "output_type": "stream",
          "name": "stdout",
          "text": [
            "{'ner': 0.06999151282501864}\n",
            "{'ner': 0.06999151294149461}\n"
          ]
        },
        {
          "output_type": "stream",
          "name": "stderr",
          "text": [
            "\r 38%|███▊      | 6/16 [00:00<00:00, 25.99it/s]"
          ]
        },
        {
          "output_type": "stream",
          "name": "stdout",
          "text": [
            "{'ner': 0.0699930735347566}\n",
            "{'ner': 0.06999307454934327}\n",
            "{'ner': 0.0700084180541415}\n",
            "{'ner': 0.07001561326480231}\n"
          ]
        },
        {
          "output_type": "stream",
          "name": "stderr",
          "text": [
            "\r 56%|█████▋    | 9/16 [00:00<00:00, 25.48it/s]"
          ]
        },
        {
          "output_type": "stream",
          "name": "stdout",
          "text": [
            "{'ner': 0.07001561397861641}\n",
            "{'ner': 0.10131516142493721}\n"
          ]
        },
        {
          "output_type": "stream",
          "name": "stderr",
          "text": [
            "\r 75%|███████▌  | 12/16 [00:00<00:00, 25.13it/s]"
          ]
        },
        {
          "output_type": "stream",
          "name": "stdout",
          "text": [
            "{'ner': 0.10131516142521724}\n",
            "{'ner': 0.1013160783372758}\n",
            "{'ner': 0.10131607833848917}\n"
          ]
        },
        {
          "output_type": "stream",
          "name": "stderr",
          "text": [
            "100%|██████████| 16/16 [00:00<00:00, 25.48it/s]\n"
          ]
        },
        {
          "output_type": "stream",
          "name": "stdout",
          "text": [
            "{'ner': 0.10131630091121184}\n",
            "{'ner': 0.10131630097848343}\n",
            "{'ner': 0.10131630140754755}\n"
          ]
        },
        {
          "output_type": "stream",
          "name": "stderr",
          "text": [
            "\r  0%|          | 0/16 [00:00<?, ?it/s]"
          ]
        },
        {
          "output_type": "stream",
          "name": "stdout",
          "text": [
            "{'ner': 5.277410382459827e-12}\n"
          ]
        },
        {
          "output_type": "stream",
          "name": "stderr",
          "text": [
            "\r 19%|█▉        | 3/16 [00:00<00:00, 25.08it/s]"
          ]
        },
        {
          "output_type": "stream",
          "name": "stdout",
          "text": [
            "{'ner': 5.9888663183527394e-12}\n",
            "{'ner': 5.995827270268199e-12}\n"
          ]
        },
        {
          "output_type": "stream",
          "name": "stderr",
          "text": [
            "\r 38%|███▊      | 6/16 [00:00<00:00, 25.90it/s]"
          ]
        },
        {
          "output_type": "stream",
          "name": "stdout",
          "text": [
            "{'ner': 5.996557537533347e-12}\n",
            "{'ner': 0.05967521668080683}\n",
            "{'ner': 0.05967521668084652}\n"
          ]
        },
        {
          "output_type": "stream",
          "name": "stderr",
          "text": [
            "\r 56%|█████▋    | 9/16 [00:00<00:00, 24.87it/s]"
          ]
        },
        {
          "output_type": "stream",
          "name": "stdout",
          "text": [
            "{'ner': 0.05967529600387514}\n",
            "{'ner': 0.0596752960131633}\n",
            "{'ner': 0.059675320393307606}\n"
          ]
        },
        {
          "output_type": "stream",
          "name": "stderr",
          "text": [
            "\r 75%|███████▌  | 12/16 [00:00<00:00, 25.96it/s]"
          ]
        },
        {
          "output_type": "stream",
          "name": "stdout",
          "text": [
            "{'ner': 0.05967699724931122}\n",
            "{'ner': 0.05967699734861495}\n",
            "{'ner': 0.059676997348801636}\n"
          ]
        },
        {
          "output_type": "stream",
          "name": "stderr",
          "text": [
            "\r 94%|█████████▍| 15/16 [00:00<00:00, 26.14it/s]"
          ]
        },
        {
          "output_type": "stream",
          "name": "stdout",
          "text": [
            "{'ner': 0.7234663274922535}\n",
            "{'ner': 0.7234663279786514}\n",
            "{'ner': 0.7234663387841319}\n"
          ]
        },
        {
          "output_type": "stream",
          "name": "stderr",
          "text": [
            "\r100%|██████████| 16/16 [00:00<00:00, 25.71it/s]\n"
          ]
        },
        {
          "output_type": "stream",
          "name": "stdout",
          "text": [
            "{'ner': 0.723466391486122}\n"
          ]
        },
        {
          "output_type": "stream",
          "name": "stderr",
          "text": [
            "\r  0%|          | 0/16 [00:00<?, ?it/s]"
          ]
        },
        {
          "output_type": "stream",
          "name": "stdout",
          "text": [
            "{'ner': 1.733291077678854e-10}\n",
            "{'ner': 2.1007254315208284e-05}\n"
          ]
        },
        {
          "output_type": "stream",
          "name": "stderr",
          "text": [
            "\r 19%|█▉        | 3/16 [00:00<00:00, 24.82it/s]"
          ]
        },
        {
          "output_type": "stream",
          "name": "stdout",
          "text": [
            "{'ner': 5.4840402889422253e-05}\n",
            "{'ner': 5.484040291130287e-05}\n"
          ]
        },
        {
          "output_type": "stream",
          "name": "stderr",
          "text": [
            "\r 38%|███▊      | 6/16 [00:00<00:00, 25.41it/s]"
          ]
        },
        {
          "output_type": "stream",
          "name": "stdout",
          "text": [
            "{'ner': 5.4842278591209036e-05}\n",
            "{'ner': 6.505317713992534e-05}\n",
            "{'ner': 6.505317715309738e-05}\n",
            "{'ner': 6.50531771535019e-05}\n"
          ]
        },
        {
          "output_type": "stream",
          "name": "stderr",
          "text": [
            "\r 56%|█████▋    | 9/16 [00:00<00:00, 25.60it/s]"
          ]
        },
        {
          "output_type": "stream",
          "name": "stdout",
          "text": [
            "{'ner': 6.505317716711164e-05}\n",
            "{'ner': 0.756676343495701}\n"
          ]
        },
        {
          "output_type": "stream",
          "name": "stderr",
          "text": [
            "\r 75%|███████▌  | 12/16 [00:00<00:00, 25.27it/s]"
          ]
        },
        {
          "output_type": "stream",
          "name": "stdout",
          "text": [
            "{'ner': 0.7566763495627797}\n",
            "{'ner': 0.7566763498202556}\n",
            "{'ner': 0.7566763498202589}\n",
            "{'ner': 0.7566763498395069}\n"
          ]
        },
        {
          "output_type": "stream",
          "name": "stderr",
          "text": [
            "100%|██████████| 16/16 [00:00<00:00, 25.35it/s]\n"
          ]
        },
        {
          "output_type": "stream",
          "name": "stdout",
          "text": [
            "{'ner': 0.7566842917529777}\n",
            "{'ner': 0.7566842917529952}\n"
          ]
        },
        {
          "output_type": "stream",
          "name": "stderr",
          "text": [
            "\r  0%|          | 0/16 [00:00<?, ?it/s]"
          ]
        },
        {
          "output_type": "stream",
          "name": "stdout",
          "text": [
            "{'ner': 1.6686766717279916e-13}\n"
          ]
        },
        {
          "output_type": "stream",
          "name": "stderr",
          "text": [
            "\r 19%|█▉        | 3/16 [00:00<00:00, 23.61it/s]"
          ]
        },
        {
          "output_type": "stream",
          "name": "stdout",
          "text": [
            "{'ner': 2.6688513788374744e-13}\n",
            "{'ner': 1.9868712910039579}\n"
          ]
        },
        {
          "output_type": "stream",
          "name": "stderr",
          "text": [
            "\r 38%|███▊      | 6/16 [00:00<00:00, 26.11it/s]"
          ]
        },
        {
          "output_type": "stream",
          "name": "stdout",
          "text": [
            "{'ner': 1.9922730937643962}\n",
            "{'ner': 1.9922730938001418}\n",
            "{'ner': 1.99227309381471}\n",
            "{'ner': 1.9922730938246622}\n"
          ]
        },
        {
          "output_type": "stream",
          "name": "stderr",
          "text": [
            "\r 56%|█████▋    | 9/16 [00:00<00:00, 26.02it/s]"
          ]
        },
        {
          "output_type": "stream",
          "name": "stdout",
          "text": [
            "{'ner': 1.992273093824705}\n",
            "{'ner': 1.9922730938768451}\n"
          ]
        },
        {
          "output_type": "stream",
          "name": "stderr",
          "text": [
            "\r 75%|███████▌  | 12/16 [00:00<00:00, 26.43it/s]"
          ]
        },
        {
          "output_type": "stream",
          "name": "stdout",
          "text": [
            "{'ner': 1.9922731008099632}\n",
            "{'ner': 1.992273101679882}\n",
            "{'ner': 1.9922731016800677}\n",
            "{'ner': 1.9922731016801143}\n"
          ]
        },
        {
          "output_type": "stream",
          "name": "stderr",
          "text": [
            "\r 94%|█████████▍| 15/16 [00:00<00:00, 26.19it/s]"
          ]
        },
        {
          "output_type": "stream",
          "name": "stdout",
          "text": [
            "{'ner': 1.9922731016806416}\n",
            "{'ner': 1.9922731106638105}\n"
          ]
        },
        {
          "output_type": "stream",
          "name": "stderr",
          "text": [
            "\r100%|██████████| 16/16 [00:00<00:00, 25.88it/s]\n"
          ]
        },
        {
          "output_type": "stream",
          "name": "stdout",
          "text": [
            "{'ner': 1.9922731106683553}\n"
          ]
        },
        {
          "output_type": "stream",
          "name": "stderr",
          "text": [
            "\r  0%|          | 0/16 [00:00<?, ?it/s]"
          ]
        },
        {
          "output_type": "stream",
          "name": "stdout",
          "text": [
            "{'ner': 2.1268015015189247e-10}\n",
            "{'ner': 7.232480022114856e-07}\n"
          ]
        },
        {
          "output_type": "stream",
          "name": "stderr",
          "text": [
            "\r 19%|█▉        | 3/16 [00:00<00:00, 27.14it/s]"
          ]
        },
        {
          "output_type": "stream",
          "name": "stdout",
          "text": [
            "{'ner': 7.232502760112078e-07}\n",
            "{'ner': 7.233752359191371e-07}\n",
            "{'ner': 1.5444813061179124e-06}\n"
          ]
        },
        {
          "output_type": "stream",
          "name": "stderr",
          "text": [
            "\r 38%|███▊      | 6/16 [00:00<00:00, 26.75it/s]"
          ]
        },
        {
          "output_type": "stream",
          "name": "stdout",
          "text": [
            "{'ner': 4.346323930059411e-06}\n",
            "{'ner': 1.5971853752947358}\n",
            "{'ner': 1.5971853753002965}\n"
          ]
        },
        {
          "output_type": "stream",
          "name": "stderr",
          "text": [
            "\r 56%|█████▋    | 9/16 [00:00<00:00, 26.56it/s]"
          ]
        },
        {
          "output_type": "stream",
          "name": "stdout",
          "text": [
            "{'ner': 1.5971853753003054}\n",
            "{'ner': 1.5971986166020589}\n",
            "{'ner': 1.5971986166036298}\n"
          ]
        },
        {
          "output_type": "stream",
          "name": "stderr",
          "text": [
            "\r 75%|███████▌  | 12/16 [00:00<00:00, 25.88it/s]"
          ]
        },
        {
          "output_type": "stream",
          "name": "stdout",
          "text": [
            "{'ner': 1.5971986167538441}\n",
            "{'ner': 1.5972045116961788}\n",
            "{'ner': 1.5972045116961788}\n"
          ]
        },
        {
          "output_type": "stream",
          "name": "stderr",
          "text": [
            "\r 94%|█████████▍| 15/16 [00:00<00:00, 25.68it/s]"
          ]
        },
        {
          "output_type": "stream",
          "name": "stdout",
          "text": [
            "{'ner': 1.679567185878698}\n"
          ]
        },
        {
          "output_type": "stream",
          "name": "stderr",
          "text": [
            "\r100%|██████████| 16/16 [00:00<00:00, 25.74it/s]\n"
          ]
        },
        {
          "output_type": "stream",
          "name": "stdout",
          "text": [
            "{'ner': 1.67956718590732}\n"
          ]
        },
        {
          "output_type": "stream",
          "name": "stderr",
          "text": [
            "\r  0%|          | 0/16 [00:00<?, ?it/s]"
          ]
        },
        {
          "output_type": "stream",
          "name": "stdout",
          "text": [
            "{'ner': 2.5861500511730438e-08}\n"
          ]
        },
        {
          "output_type": "stream",
          "name": "stderr",
          "text": [
            "\r 19%|█▉        | 3/16 [00:00<00:00, 24.50it/s]"
          ]
        },
        {
          "output_type": "stream",
          "name": "stdout",
          "text": [
            "{'ner': 3.1423391230784647e-08}\n",
            "{'ner': 4.748202400925534e-06}\n",
            "{'ner': 4.784741421869745e-06}\n"
          ]
        },
        {
          "output_type": "stream",
          "name": "stderr",
          "text": [
            "\r 38%|███▊      | 6/16 [00:00<00:00, 25.45it/s]"
          ]
        },
        {
          "output_type": "stream",
          "name": "stdout",
          "text": [
            "{'ner': 1.8449560580008102}\n",
            "{'ner': 1.8449560580008102}\n",
            "{'ner': 1.8449561394075225}\n"
          ]
        },
        {
          "output_type": "stream",
          "name": "stderr",
          "text": [
            "\r 56%|█████▋    | 9/16 [00:00<00:00, 25.27it/s]"
          ]
        },
        {
          "output_type": "stream",
          "name": "stdout",
          "text": [
            "{'ner': 1.844956139408572}\n",
            "{'ner': 1.8449651080061733}\n",
            "{'ner': 1.8449651082636827}\n"
          ]
        },
        {
          "output_type": "stream",
          "name": "stderr",
          "text": [
            "\r 75%|███████▌  | 12/16 [00:00<00:00, 25.81it/s]"
          ]
        },
        {
          "output_type": "stream",
          "name": "stdout",
          "text": [
            "{'ner': 1.8449651179339783}\n",
            "{'ner': 1.8449651179352682}\n",
            "{'ner': 1.8449651189896994}\n"
          ]
        },
        {
          "output_type": "stream",
          "name": "stderr",
          "text": [
            "\r 94%|█████████▍| 15/16 [00:00<00:00, 25.81it/s]"
          ]
        },
        {
          "output_type": "stream",
          "name": "stdout",
          "text": [
            "{'ner': 1.8449651189896996}\n",
            "{'ner': 1.8449651189937266}\n"
          ]
        },
        {
          "output_type": "stream",
          "name": "stderr",
          "text": [
            "\r100%|██████████| 16/16 [00:00<00:00, 25.50it/s]\n"
          ]
        },
        {
          "output_type": "stream",
          "name": "stdout",
          "text": [
            "{'ner': 1.8453544798229984}\n"
          ]
        },
        {
          "output_type": "stream",
          "name": "stderr",
          "text": [
            "\r  0%|          | 0/16 [00:00<?, ?it/s]"
          ]
        },
        {
          "output_type": "stream",
          "name": "stdout",
          "text": [
            "{'ner': 9.484477355283665e-07}\n",
            "{'ner': 9.484477356397855e-07}\n"
          ]
        },
        {
          "output_type": "stream",
          "name": "stderr",
          "text": [
            "\r 19%|█▉        | 3/16 [00:00<00:00, 24.63it/s]"
          ]
        },
        {
          "output_type": "stream",
          "name": "stdout",
          "text": [
            "{'ner': 0.00011328616869671782}\n",
            "{'ner': 0.0005598726504268907}\n"
          ]
        },
        {
          "output_type": "stream",
          "name": "stderr",
          "text": [
            "\r 38%|███▊      | 6/16 [00:00<00:00, 25.59it/s]"
          ]
        },
        {
          "output_type": "stream",
          "name": "stdout",
          "text": [
            "{'ner': 0.0005598726681524949}\n",
            "{'ner': 0.0005598726685273469}\n",
            "{'ner': 0.0005598726685831376}\n",
            "{'ner': 0.0005598731031980113}\n"
          ]
        },
        {
          "output_type": "stream",
          "name": "stderr",
          "text": [
            "\r 56%|█████▋    | 9/16 [00:00<00:00, 25.65it/s]"
          ]
        },
        {
          "output_type": "stream",
          "name": "stdout",
          "text": [
            "{'ner': 0.0005599671400519779}\n",
            "{'ner': 0.0008433848096173268}\n"
          ]
        },
        {
          "output_type": "stream",
          "name": "stderr",
          "text": [
            "\r 75%|███████▌  | 12/16 [00:00<00:00, 25.60it/s]"
          ]
        },
        {
          "output_type": "stream",
          "name": "stdout",
          "text": [
            "{'ner': 0.0008434147697726601}\n",
            "{'ner': 0.0008434147904239302}\n",
            "{'ner': 0.0008463584287070327}\n",
            "{'ner': 0.0008463584310700133}\n"
          ]
        },
        {
          "output_type": "stream",
          "name": "stderr",
          "text": [
            "100%|██████████| 16/16 [00:00<00:00, 25.38it/s]\n"
          ]
        },
        {
          "output_type": "stream",
          "name": "stdout",
          "text": [
            "{'ner': 0.0017375611700518553}\n",
            "{'ner': 0.0017375775924104405}\n"
          ]
        },
        {
          "output_type": "stream",
          "name": "stderr",
          "text": [
            "\r  0%|          | 0/16 [00:00<?, ?it/s]"
          ]
        },
        {
          "output_type": "stream",
          "name": "stdout",
          "text": [
            "{'ner': 1.5870206060170562e-08}\n",
            "{'ner': 2.3000213845756958e-08}\n"
          ]
        },
        {
          "output_type": "stream",
          "name": "stderr",
          "text": [
            "\r 19%|█▉        | 3/16 [00:00<00:00, 27.46it/s]"
          ]
        },
        {
          "output_type": "stream",
          "name": "stdout",
          "text": [
            "{'ner': 0.032856487823340864}\n",
            "{'ner': 0.03938258687921895}\n"
          ]
        },
        {
          "output_type": "stream",
          "name": "stderr",
          "text": [
            "\r 38%|███▊      | 6/16 [00:00<00:00, 27.79it/s]"
          ]
        },
        {
          "output_type": "stream",
          "name": "stdout",
          "text": [
            "{'ner': 0.0393825871446273}\n",
            "{'ner': 0.03938258837898403}\n",
            "{'ner': 0.046755762580705997}\n",
            "{'ner': 0.04675576298706702}\n"
          ]
        },
        {
          "output_type": "stream",
          "name": "stderr",
          "text": [
            "\r 56%|█████▋    | 9/16 [00:00<00:00, 25.61it/s]"
          ]
        },
        {
          "output_type": "stream",
          "name": "stdout",
          "text": [
            "{'ner': 0.046755762987087}\n"
          ]
        },
        {
          "output_type": "stream",
          "name": "stderr",
          "text": [
            "\r 75%|███████▌  | 12/16 [00:00<00:00, 25.98it/s]"
          ]
        },
        {
          "output_type": "stream",
          "name": "stdout",
          "text": [
            "{'ner': 0.046760026871962464}\n",
            "{'ner': 0.046760276975516886}\n",
            "{'ner': 0.04676027697625858}\n",
            "{'ner': 0.046760320474453124}\n",
            "{'ner': 0.046760320477490916}\n"
          ]
        },
        {
          "output_type": "stream",
          "name": "stderr",
          "text": [
            "\r 94%|█████████▍| 15/16 [00:00<00:00, 26.49it/s]"
          ]
        },
        {
          "output_type": "stream",
          "name": "stdout",
          "text": [
            "{'ner': 0.04676032047782604}\n"
          ]
        },
        {
          "output_type": "stream",
          "name": "stderr",
          "text": [
            "\r100%|██████████| 16/16 [00:00<00:00, 26.15it/s]\n"
          ]
        },
        {
          "output_type": "stream",
          "name": "stdout",
          "text": [
            "{'ner': 0.04676049628186149}\n"
          ]
        },
        {
          "output_type": "stream",
          "name": "stderr",
          "text": [
            "\r  0%|          | 0/16 [00:00<?, ?it/s]"
          ]
        },
        {
          "output_type": "stream",
          "name": "stdout",
          "text": [
            "{'ner': 2.8922706699594456e-11}\n",
            "{'ner': 5.000856873324548e-05}"
          ]
        },
        {
          "output_type": "stream",
          "name": "stderr",
          "text": [
            "\r 19%|█▉        | 3/16 [00:00<00:00, 26.30it/s]"
          ]
        },
        {
          "output_type": "stream",
          "name": "stdout",
          "text": [
            "\n",
            "{'ner': 5.0008568734157974e-05}\n",
            "{'ner': 5.000856924333845e-05}\n",
            "{'ner': 0.0029945410625533977}\n"
          ]
        },
        {
          "output_type": "stream",
          "name": "stderr",
          "text": [
            "\r 38%|███▊      | 6/16 [00:00<00:00, 26.15it/s]"
          ]
        },
        {
          "output_type": "stream",
          "name": "stdout",
          "text": [
            "{'ner': 0.002994544030024739}\n",
            "{'ner': 0.002994544030032368}\n"
          ]
        },
        {
          "output_type": "stream",
          "name": "stderr",
          "text": [
            "\r 56%|█████▋    | 9/16 [00:00<00:00, 26.60it/s]"
          ]
        },
        {
          "output_type": "stream",
          "name": "stdout",
          "text": [
            "{'ner': 0.012127574691111165}\n",
            "{'ner': 0.012388233549856069}\n",
            "{'ner': 0.01238823354985806}\n",
            "{'ner': 0.012388233562129588}\n"
          ]
        },
        {
          "output_type": "stream",
          "name": "stderr",
          "text": [
            "\r 75%|███████▌  | 12/16 [00:00<00:00, 26.41it/s]"
          ]
        },
        {
          "output_type": "stream",
          "name": "stdout",
          "text": [
            "{'ner': 0.012388233562129647}\n",
            "{'ner': 0.012388234646398138}\n"
          ]
        },
        {
          "output_type": "stream",
          "name": "stderr",
          "text": [
            "\r 94%|█████████▍| 15/16 [00:00<00:00, 26.42it/s]"
          ]
        },
        {
          "output_type": "stream",
          "name": "stdout",
          "text": [
            "{'ner': 0.012388237855043753}\n",
            "{'ner': 0.012388506526003422}\n"
          ]
        },
        {
          "output_type": "stream",
          "name": "stderr",
          "text": [
            "\r100%|██████████| 16/16 [00:00<00:00, 26.36it/s]\n"
          ]
        },
        {
          "output_type": "stream",
          "name": "stdout",
          "text": [
            "{'ner': 0.012388506526011148}\n"
          ]
        },
        {
          "output_type": "stream",
          "name": "stderr",
          "text": [
            "\r  0%|          | 0/16 [00:00<?, ?it/s]"
          ]
        },
        {
          "output_type": "stream",
          "name": "stdout",
          "text": [
            "{'ner': 2.4790579120382214e-06}\n"
          ]
        },
        {
          "output_type": "stream",
          "name": "stderr",
          "text": [
            "\r 19%|█▉        | 3/16 [00:00<00:00, 24.92it/s]"
          ]
        },
        {
          "output_type": "stream",
          "name": "stdout",
          "text": [
            "{'ner': 2.479057913256903e-06}\n",
            "{'ner': 2.479057913423253e-06}\n",
            "{'ner': 2.480277766308662e-06}\n"
          ]
        },
        {
          "output_type": "stream",
          "name": "stderr",
          "text": [
            "\r 38%|███▊      | 6/16 [00:00<00:00, 25.40it/s]"
          ]
        },
        {
          "output_type": "stream",
          "name": "stdout",
          "text": [
            "{'ner': 2.480277988918561e-06}\n",
            "{'ner': 0.26629449354792456}\n",
            "{'ner': 0.26629449354793006}\n"
          ]
        },
        {
          "output_type": "stream",
          "name": "stderr",
          "text": [
            "\r 56%|█████▋    | 9/16 [00:00<00:00, 25.53it/s]"
          ]
        },
        {
          "output_type": "stream",
          "name": "stdout",
          "text": [
            "{'ner': 0.2662944935856766}\n",
            "{'ner': 0.43627577958653585}\n"
          ]
        },
        {
          "output_type": "stream",
          "name": "stderr",
          "text": [
            "\r 75%|███████▌  | 12/16 [00:00<00:00, 25.39it/s]"
          ]
        },
        {
          "output_type": "stream",
          "name": "stdout",
          "text": [
            "{'ner': 0.43684269228510036}\n",
            "{'ner': 2.225092519437121}\n",
            "{'ner': 2.2250925194377533}\n",
            "{'ner': 2.225154169943568}\n"
          ]
        },
        {
          "output_type": "stream",
          "name": "stderr",
          "text": [
            "\r 94%|█████████▍| 15/16 [00:00<00:00, 25.87it/s]"
          ]
        },
        {
          "output_type": "stream",
          "name": "stdout",
          "text": [
            "{'ner': 2.225154169943998}\n",
            "{'ner': 2.225154169943998}\n"
          ]
        },
        {
          "output_type": "stream",
          "name": "stderr",
          "text": [
            "\r100%|██████████| 16/16 [00:00<00:00, 25.13it/s]\n"
          ]
        },
        {
          "output_type": "stream",
          "name": "stdout",
          "text": [
            "{'ner': 2.22515433655767}\n"
          ]
        },
        {
          "output_type": "stream",
          "name": "stderr",
          "text": [
            "\r  0%|          | 0/16 [00:00<?, ?it/s]"
          ]
        },
        {
          "output_type": "stream",
          "name": "stdout",
          "text": [
            "{'ner': 6.6594850840762245e-06}\n",
            "{'ner': 6.659485084090823e-06}\n"
          ]
        },
        {
          "output_type": "stream",
          "name": "stderr",
          "text": [
            "\r 19%|█▉        | 3/16 [00:00<00:00, 27.18it/s]"
          ]
        },
        {
          "output_type": "stream",
          "name": "stdout",
          "text": [
            "{'ner': 6.6594850840911e-06}\n",
            "{'ner': 6.662823857128567e-06}\n",
            "{'ner': 6.662823857204906e-06}\n"
          ]
        },
        {
          "output_type": "stream",
          "name": "stderr",
          "text": [
            "\r 38%|███▊      | 6/16 [00:00<00:00, 25.67it/s]"
          ]
        },
        {
          "output_type": "stream",
          "name": "stdout",
          "text": [
            "{'ner': 6.662843431605744e-06}\n",
            "{'ner': 6.662844346579306e-06}\n"
          ]
        },
        {
          "output_type": "stream",
          "name": "stderr",
          "text": [
            "\r 56%|█████▋    | 9/16 [00:00<00:00, 25.35it/s]"
          ]
        },
        {
          "output_type": "stream",
          "name": "stdout",
          "text": [
            "{'ner': 6.662884935564138e-06}\n",
            "{'ner': 6.662885047062714e-06}\n",
            "{'ner': 1.6635887354057128e-05}\n",
            "{'ner': 1.664281570760132e-05}\n"
          ]
        },
        {
          "output_type": "stream",
          "name": "stderr",
          "text": [
            "\r 75%|███████▌  | 12/16 [00:00<00:00, 25.86it/s]"
          ]
        },
        {
          "output_type": "stream",
          "name": "stdout",
          "text": [
            "{'ner': 1.6642815855411757e-05}\n",
            "{'ner': 1.664281921220725e-05}\n"
          ]
        },
        {
          "output_type": "stream",
          "name": "stderr",
          "text": [
            "100%|██████████| 16/16 [00:00<00:00, 25.38it/s]\n"
          ]
        },
        {
          "output_type": "stream",
          "name": "stdout",
          "text": [
            "{'ner': 2.1476563494548707e-05}\n",
            "{'ner': 2.1476563546914323e-05}\n",
            "{'ner': 2.1476563547340892e-05}\n"
          ]
        },
        {
          "output_type": "stream",
          "name": "stderr",
          "text": [
            "\r  0%|          | 0/16 [00:00<?, ?it/s]"
          ]
        },
        {
          "output_type": "stream",
          "name": "stdout",
          "text": [
            "{'ner': 8.81820471137077e-10}\n",
            "{'ner': 1.2220772993915797e-09}\n"
          ]
        },
        {
          "output_type": "stream",
          "name": "stderr",
          "text": [
            " 38%|███▊      | 6/16 [00:00<00:00, 24.95it/s]"
          ]
        },
        {
          "output_type": "stream",
          "name": "stdout",
          "text": [
            "{'ner': 1.2220781719951618e-09}\n",
            "{'ner': 1.2220782001696682e-09}\n",
            "{'ner': 0.0034474086130022157}\n",
            "{'ner': 0.003447412477972361}\n",
            "{'ner': 0.0034474124830746466}\n",
            "{'ner': 0.0034474124831800164}\n"
          ]
        },
        {
          "output_type": "stream",
          "name": "stderr",
          "text": [
            " 75%|███████▌  | 12/16 [00:00<00:00, 26.23it/s]"
          ]
        },
        {
          "output_type": "stream",
          "name": "stdout",
          "text": [
            "{'ner': 0.0034474124831800337}\n",
            "{'ner': 0.0034474124834371444}\n",
            "{'ner': 0.00344744146479921}\n",
            "{'ner': 0.0034474414677825227}\n",
            "{'ner': 0.0034474414677844283}\n",
            "{'ner': 0.0034474414680546735}\n"
          ]
        },
        {
          "output_type": "stream",
          "name": "stderr",
          "text": [
            "100%|██████████| 16/16 [00:00<00:00, 25.74it/s]\n"
          ]
        },
        {
          "output_type": "stream",
          "name": "stdout",
          "text": [
            "{'ner': 0.003447441468060664}\n",
            "{'ner': 0.003447626357838557}\n"
          ]
        },
        {
          "output_type": "stream",
          "name": "stderr",
          "text": [
            "\r  0%|          | 0/16 [00:00<?, ?it/s]"
          ]
        },
        {
          "output_type": "stream",
          "name": "stdout",
          "text": [
            "{'ner': 6.025637873206873e-18}\n",
            "{'ner': 6.026020088094132e-18}\n"
          ]
        },
        {
          "output_type": "stream",
          "name": "stderr",
          "text": [
            "\r 19%|█▉        | 3/16 [00:00<00:00, 26.59it/s]"
          ]
        },
        {
          "output_type": "stream",
          "name": "stdout",
          "text": [
            "{'ner': 4.069694571024341e-15}\n"
          ]
        },
        {
          "output_type": "stream",
          "name": "stderr",
          "text": [
            "\r 38%|███▊      | 6/16 [00:00<00:00, 25.12it/s]"
          ]
        },
        {
          "output_type": "stream",
          "name": "stdout",
          "text": [
            "{'ner': 2.0832876255285787e-13}\n",
            "{'ner': 1.1292806265161506e-09}\n",
            "{'ner': 1.1311400892223769e-09}\n",
            "{'ner': 1.1344819705593593e-09}\n"
          ]
        },
        {
          "output_type": "stream",
          "name": "stderr",
          "text": [
            "\r 56%|█████▋    | 9/16 [00:00<00:00, 25.41it/s]"
          ]
        },
        {
          "output_type": "stream",
          "name": "stdout",
          "text": [
            "{'ner': 1.9432348369365986e-07}\n",
            "{'ner': 1.9432349710432655e-07}\n"
          ]
        },
        {
          "output_type": "stream",
          "name": "stderr",
          "text": [
            "\r 75%|███████▌  | 12/16 [00:00<00:00, 26.11it/s]"
          ]
        },
        {
          "output_type": "stream",
          "name": "stdout",
          "text": [
            "{'ner': 1.9432724077123542e-07}\n",
            "{'ner': 1.943296499936143e-07}\n",
            "{'ner': 1.9432965075962507e-07}\n",
            "{'ner': 1.9652428791213251e-07}\n"
          ]
        },
        {
          "output_type": "stream",
          "name": "stderr",
          "text": [
            "\r 94%|█████████▍| 15/16 [00:00<00:00, 24.90it/s]"
          ]
        },
        {
          "output_type": "stream",
          "name": "stdout",
          "text": [
            "{'ner': 0.051614211264347086}\n",
            "{'ner': 0.05161440479408862}\n"
          ]
        },
        {
          "output_type": "stream",
          "name": "stderr",
          "text": [
            "\r100%|██████████| 16/16 [00:00<00:00, 25.09it/s]\n"
          ]
        },
        {
          "output_type": "stream",
          "name": "stdout",
          "text": [
            "{'ner': 0.051614404794089234}\n"
          ]
        },
        {
          "output_type": "stream",
          "name": "stderr",
          "text": [
            "\r  0%|          | 0/16 [00:00<?, ?it/s]"
          ]
        },
        {
          "output_type": "stream",
          "name": "stdout",
          "text": [
            "{'ner': 0.14734882613020028}\n",
            "{'ner': 0.1473488262566302}\n"
          ]
        },
        {
          "output_type": "stream",
          "name": "stderr",
          "text": [
            "\r 19%|█▉        | 3/16 [00:00<00:00, 22.87it/s]"
          ]
        },
        {
          "output_type": "stream",
          "name": "stdout",
          "text": [
            "{'ner': 0.14734882625687476}\n",
            "{'ner': 0.1473488744538817}\n"
          ]
        },
        {
          "output_type": "stream",
          "name": "stderr",
          "text": [
            "\r 38%|███▊      | 6/16 [00:00<00:00, 24.50it/s]"
          ]
        },
        {
          "output_type": "stream",
          "name": "stdout",
          "text": [
            "{'ner': 0.14734926718739322}\n",
            "{'ner': 0.14734926718739322}\n",
            "{'ner': 0.1473492671886631}\n",
            "{'ner': 0.14737498473486654}\n"
          ]
        },
        {
          "output_type": "stream",
          "name": "stderr",
          "text": [
            "\r 56%|█████▋    | 9/16 [00:00<00:00, 24.58it/s]"
          ]
        },
        {
          "output_type": "stream",
          "name": "stdout",
          "text": [
            "{'ner': 0.14737502340733444}\n",
            "{'ner': 0.14737502340796044}\n"
          ]
        },
        {
          "output_type": "stream",
          "name": "stderr",
          "text": [
            "\r 75%|███████▌  | 12/16 [00:00<00:00, 25.04it/s]"
          ]
        },
        {
          "output_type": "stream",
          "name": "stdout",
          "text": [
            "{'ner': 0.1473752948656345}\n",
            "{'ner': 0.14737534872378016}\n",
            "{'ner': 0.14737534872378039}\n",
            "{'ner': 0.14737534872378039}\n"
          ]
        },
        {
          "output_type": "stream",
          "name": "stderr",
          "text": [
            "100%|██████████| 16/16 [00:00<00:00, 24.84it/s]\n"
          ]
        },
        {
          "output_type": "stream",
          "name": "stdout",
          "text": [
            "{'ner': 0.14737534872378047}\n",
            "{'ner': 0.14737534872378147}\n"
          ]
        },
        {
          "output_type": "stream",
          "name": "stderr",
          "text": [
            "\r  0%|          | 0/16 [00:00<?, ?it/s]"
          ]
        },
        {
          "output_type": "stream",
          "name": "stdout",
          "text": [
            "{'ner': 8.662366419932224e-07}\n"
          ]
        },
        {
          "output_type": "stream",
          "name": "stderr",
          "text": [
            "\r 19%|█▉        | 3/16 [00:00<00:00, 24.25it/s]"
          ]
        },
        {
          "output_type": "stream",
          "name": "stdout",
          "text": [
            "{'ner': 8.662366420259134e-07}\n",
            "{'ner': 0.3750340660238195}\n"
          ]
        },
        {
          "output_type": "stream",
          "name": "stderr",
          "text": [
            "\r 38%|███▊      | 6/16 [00:00<00:00, 24.01it/s]"
          ]
        },
        {
          "output_type": "stream",
          "name": "stdout",
          "text": [
            "{'ner': 0.3750340661445474}\n",
            "{'ner': 0.37515556165373926}\n",
            "{'ner': 0.3751555616759217}\n"
          ]
        },
        {
          "output_type": "stream",
          "name": "stderr",
          "text": [
            "\r 56%|█████▋    | 9/16 [00:00<00:00, 24.84it/s]"
          ]
        },
        {
          "output_type": "stream",
          "name": "stdout",
          "text": [
            "{'ner': 0.3751555616771028}\n",
            "{'ner': 0.3751555616823932}\n",
            "{'ner': 0.37515556168239833}\n"
          ]
        },
        {
          "output_type": "stream",
          "name": "stderr",
          "text": [
            "\r 75%|███████▌  | 12/16 [00:00<00:00, 24.96it/s]"
          ]
        },
        {
          "output_type": "stream",
          "name": "stdout",
          "text": [
            "{'ner': 0.3751555616825025}\n",
            "{'ner': 0.3751555700623912}\n",
            "{'ner': 0.37515557048663595}\n"
          ]
        },
        {
          "output_type": "stream",
          "name": "stderr",
          "text": [
            "\r 94%|█████████▍| 15/16 [00:00<00:00, 25.30it/s]"
          ]
        },
        {
          "output_type": "stream",
          "name": "stdout",
          "text": [
            "{'ner': 0.3751555704896132}\n",
            "{'ner': 0.37515557048981085}\n",
            "{'ner': 0.37515557049426296}\n"
          ]
        },
        {
          "output_type": "stream",
          "name": "stderr",
          "text": [
            "\r100%|██████████| 16/16 [00:00<00:00, 24.78it/s]\n"
          ]
        },
        {
          "output_type": "stream",
          "name": "stdout",
          "text": [
            "{'ner': 0.3751555877839954}\n"
          ]
        },
        {
          "output_type": "stream",
          "name": "stderr",
          "text": [
            "\r  0%|          | 0/16 [00:00<?, ?it/s]"
          ]
        },
        {
          "output_type": "stream",
          "name": "stdout",
          "text": [
            "{'ner': 1.0775992944251433e-12}\n"
          ]
        },
        {
          "output_type": "stream",
          "name": "stderr",
          "text": [
            "\r 19%|█▉        | 3/16 [00:00<00:00, 24.23it/s]"
          ]
        },
        {
          "output_type": "stream",
          "name": "stdout",
          "text": [
            "{'ner': 7.668810772443231e-08}\n",
            "{'ner': 1.5893759343988646e-06}\n",
            "{'ner': 1.589375940872662e-06}\n"
          ]
        },
        {
          "output_type": "stream",
          "name": "stderr",
          "text": [
            "\r 38%|███▊      | 6/16 [00:00<00:00, 24.58it/s]"
          ]
        },
        {
          "output_type": "stream",
          "name": "stdout",
          "text": [
            "{'ner': 2.3683794324414507e-06}\n",
            "{'ner': 2.3683794565987173e-06}\n"
          ]
        },
        {
          "output_type": "stream",
          "name": "stderr",
          "text": [
            "\r 56%|█████▋    | 9/16 [00:00<00:00, 24.74it/s]"
          ]
        },
        {
          "output_type": "stream",
          "name": "stdout",
          "text": [
            "{'ner': 2.3683794571718532e-06}\n",
            "{'ner': 8.560437665895927e-05}\n",
            "{'ner': 8.560438360581656e-05}\n",
            "{'ner': 8.560438360581657e-05}\n"
          ]
        },
        {
          "output_type": "stream",
          "name": "stderr",
          "text": [
            "\r 75%|███████▌  | 12/16 [00:00<00:00, 24.67it/s]"
          ]
        },
        {
          "output_type": "stream",
          "name": "stdout",
          "text": [
            "{'ner': 8.560439170296375e-05}\n",
            "{'ner': 8.560439170296375e-05}\n"
          ]
        },
        {
          "output_type": "stream",
          "name": "stderr",
          "text": [
            "\r 94%|█████████▍| 15/16 [00:00<00:00, 24.24it/s]"
          ]
        },
        {
          "output_type": "stream",
          "name": "stdout",
          "text": [
            "{'ner': 8.560439272945208e-05}\n",
            "{'ner': 8.560439276672968e-05}\n",
            "{'ner': 8.561307184090208e-05}\n"
          ]
        },
        {
          "output_type": "stream",
          "name": "stderr",
          "text": [
            "\r100%|██████████| 16/16 [00:00<00:00, 24.24it/s]\n"
          ]
        },
        {
          "output_type": "stream",
          "name": "stdout",
          "text": [
            "{'ner': 0.0010654489378758216}\n"
          ]
        },
        {
          "output_type": "stream",
          "name": "stderr",
          "text": [
            "\r  0%|          | 0/16 [00:00<?, ?it/s]"
          ]
        },
        {
          "output_type": "stream",
          "name": "stdout",
          "text": [
            "{'ner': 3.8964330362899934e-16}\n"
          ]
        },
        {
          "output_type": "stream",
          "name": "stderr",
          "text": [
            "\r 19%|█▉        | 3/16 [00:00<00:00, 23.88it/s]"
          ]
        },
        {
          "output_type": "stream",
          "name": "stdout",
          "text": [
            "{'ner': 4.1602772168118264e-16}\n",
            "{'ner': 3.2374951745670244e-13}\n",
            "{'ner': 3.237502015613101e-13}\n",
            "{'ner': 7.048001243781498e-11}\n"
          ]
        },
        {
          "output_type": "stream",
          "name": "stderr",
          "text": [
            "\r 38%|███▊      | 6/16 [00:00<00:00, 22.93it/s]"
          ]
        },
        {
          "output_type": "stream",
          "name": "stdout",
          "text": [
            "{'ner': 0.01225531853333435}\n"
          ]
        },
        {
          "output_type": "stream",
          "name": "stderr",
          "text": [
            "\r 56%|█████▋    | 9/16 [00:00<00:00, 22.95it/s]"
          ]
        },
        {
          "output_type": "stream",
          "name": "stdout",
          "text": [
            "{'ner': 0.01225637471348821}\n",
            "{'ner': 0.012256374713488219}\n",
            "{'ner': 0.05369494145713182}\n",
            "{'ner': 0.05369494145716507}\n",
            "{'ner': 0.053694941457165114}\n"
          ]
        },
        {
          "output_type": "stream",
          "name": "stderr",
          "text": [
            " 94%|█████████▍| 15/16 [00:00<00:00, 23.73it/s]"
          ]
        },
        {
          "output_type": "stream",
          "name": "stdout",
          "text": [
            "{'ner': 0.0536949414571654}\n",
            "{'ner': 0.05369494145928787}\n",
            "{'ner': 0.05369494145929267}\n",
            "{'ner': 0.0536949414864487}\n"
          ]
        },
        {
          "output_type": "stream",
          "name": "stderr",
          "text": [
            "\r100%|██████████| 16/16 [00:00<00:00, 23.30it/s]\n"
          ]
        },
        {
          "output_type": "stream",
          "name": "stdout",
          "text": [
            "{'ner': 0.05369494148645153}\n"
          ]
        },
        {
          "output_type": "stream",
          "name": "stderr",
          "text": [
            " 19%|█▉        | 3/16 [00:00<00:00, 24.06it/s]"
          ]
        },
        {
          "output_type": "stream",
          "name": "stdout",
          "text": [
            "{'ner': 2.099027673526348e-15}\n",
            "{'ner': 1.9002117071250007e-07}\n",
            "{'ner': 1.9913451557628005e-06}\n",
            "{'ner': 1.991366790103319e-06}\n",
            "{'ner': 1.991366882112436e-06}\n"
          ]
        },
        {
          "output_type": "stream",
          "name": "stderr",
          "text": [
            " 56%|█████▋    | 9/16 [00:00<00:00, 24.78it/s]"
          ]
        },
        {
          "output_type": "stream",
          "name": "stdout",
          "text": [
            "{'ner': 1.9919245056900127e-06}\n",
            "{'ner': 1.9949963169048977e-06}\n",
            "{'ner': 1.994996316904943e-06}\n",
            "{'ner': 1.99507787419755e-06}\n",
            "{'ner': 1.9950817811708902e-06}\n",
            "{'ner': 1.9950823993926836e-06}\n"
          ]
        },
        {
          "output_type": "stream",
          "name": "stderr",
          "text": [
            "100%|██████████| 16/16 [00:00<00:00, 24.54it/s]"
          ]
        },
        {
          "output_type": "stream",
          "name": "stdout",
          "text": [
            "{'ner': 1.9950824017527956e-06}\n",
            "{'ner': 1.9950825302393475e-06}\n",
            "{'ner': 1.9950829054131055e-06}\n",
            "{'ner': 2.156264521023069e-06}\n",
            "{'ner': 2.1562645210230697e-06}\n"
          ]
        },
        {
          "output_type": "stream",
          "name": "stderr",
          "text": [
            "\n",
            " 38%|███▊      | 6/16 [00:00<00:00, 24.71it/s]"
          ]
        },
        {
          "output_type": "stream",
          "name": "stdout",
          "text": [
            "{'ner': 1.0719330216871286e-09}\n",
            "{'ner': 1.0719330746062788e-09}\n",
            "{'ner': 1.0721647512097202e-09}\n",
            "{'ner': 1.0721647512429913e-09}\n",
            "{'ner': 1.250790807237025e-09}\n",
            "{'ner': 1.2519748213254045e-09}\n"
          ]
        },
        {
          "output_type": "stream",
          "name": "stderr",
          "text": [
            " 75%|███████▌  | 12/16 [00:00<00:00, 24.85it/s]"
          ]
        },
        {
          "output_type": "stream",
          "name": "stdout",
          "text": [
            "{'ner': 0.006135977633586372}\n",
            "{'ner': 0.006135977633613199}\n",
            "{'ner': 0.006135977633613368}\n",
            "{'ner': 0.006135977633613368}\n",
            "{'ner': 0.006135977633613368}\n",
            "{'ner': 0.00613597763361353}\n"
          ]
        },
        {
          "output_type": "stream",
          "name": "stderr",
          "text": [
            "100%|██████████| 16/16 [00:00<00:00, 24.20it/s]\n"
          ]
        },
        {
          "output_type": "stream",
          "name": "stdout",
          "text": [
            "{'ner': 0.006135977655870291}\n",
            "{'ner': 0.006135977655880138}\n",
            "{'ner': 0.006135977878127328}\n",
            "{'ner': 0.006135977878127587}\n"
          ]
        },
        {
          "output_type": "stream",
          "name": "stderr",
          "text": [
            "\r  0%|          | 0/16 [00:00<?, ?it/s]"
          ]
        },
        {
          "output_type": "stream",
          "name": "stdout",
          "text": [
            "{'ner': 2.153269596797456e-08}\n"
          ]
        },
        {
          "output_type": "stream",
          "name": "stderr",
          "text": [
            " 38%|███▊      | 6/16 [00:00<00:00, 25.22it/s]"
          ]
        },
        {
          "output_type": "stream",
          "name": "stdout",
          "text": [
            "{'ner': 2.15331929639192e-08}\n",
            "{'ner': 2.153319438199267e-08}\n",
            "{'ner': 2.1533194595304854e-08}\n",
            "{'ner': 2.1533194786592783e-08}\n",
            "{'ner': 2.1533199181924663e-08}\n"
          ]
        },
        {
          "output_type": "stream",
          "name": "stderr",
          "text": [
            " 75%|███████▌  | 12/16 [00:00<00:00, 24.63it/s]"
          ]
        },
        {
          "output_type": "stream",
          "name": "stdout",
          "text": [
            "{'ner': 2.1533235336342103e-08}\n",
            "{'ner': 2.15340426340404e-08}\n",
            "{'ner': 2.1594755505457125e-08}\n",
            "{'ner': 2.1594757067120334e-08}\n",
            "{'ner': 5.1020280630448996e-05}\n",
            "{'ner': 5.102028063088589e-05}\n"
          ]
        },
        {
          "output_type": "stream",
          "name": "stderr",
          "text": [
            "100%|██████████| 16/16 [00:00<00:00, 24.34it/s]\n"
          ]
        },
        {
          "output_type": "stream",
          "name": "stdout",
          "text": [
            "{'ner': 5.1020281076592695e-05}\n",
            "{'ner': 5.102055577635206e-05}\n",
            "{'ner': 5.1020636048502024e-05}\n",
            "{'ner': 5.122682645547458e-05}\n"
          ]
        },
        {
          "output_type": "stream",
          "name": "stderr",
          "text": [
            "\r  0%|          | 0/16 [00:00<?, ?it/s]"
          ]
        },
        {
          "output_type": "stream",
          "name": "stdout",
          "text": [
            "{'ner': 1.6846802059631622e-10}\n"
          ]
        },
        {
          "output_type": "stream",
          "name": "stderr",
          "text": [
            "\r 19%|█▉        | 3/16 [00:00<00:00, 23.03it/s]"
          ]
        },
        {
          "output_type": "stream",
          "name": "stdout",
          "text": [
            "{'ner': 3.893599871332544e-09}\n",
            "{'ner': 3.897025720097554e-09}\n",
            "{'ner': 0.00020326688247686729}\n",
            "{'ner': 0.00020326688248190866}\n"
          ]
        },
        {
          "output_type": "stream",
          "name": "stderr",
          "text": [
            "\r 38%|███▊      | 6/16 [00:00<00:00, 23.31it/s]"
          ]
        },
        {
          "output_type": "stream",
          "name": "stdout",
          "text": [
            "{'ner': 0.0002032668878319628}\n"
          ]
        },
        {
          "output_type": "stream",
          "name": "stderr",
          "text": [
            "\r 56%|█████▋    | 9/16 [00:00<00:00, 22.88it/s]"
          ]
        },
        {
          "output_type": "stream",
          "name": "stdout",
          "text": [
            "{'ner': 0.00020326688783286163}\n",
            "{'ner': 0.00034708168440157703}\n",
            "{'ner': 0.0003470816863819966}\n",
            "{'ner': 0.00034708168714052716}\n",
            "{'ner': 0.0003470816871409769}\n"
          ]
        },
        {
          "output_type": "stream",
          "name": "stderr",
          "text": [
            " 94%|█████████▍| 15/16 [00:00<00:00, 22.83it/s]"
          ]
        },
        {
          "output_type": "stream",
          "name": "stdout",
          "text": [
            "{'ner': 0.0003543003606861166}\n",
            "{'ner': 0.00035430037036493457}\n",
            "{'ner': 0.00035431653975282097}\n",
            "{'ner': 0.00035431784333030326}\n"
          ]
        },
        {
          "output_type": "stream",
          "name": "stderr",
          "text": [
            "\r100%|██████████| 16/16 [00:00<00:00, 22.73it/s]\n"
          ]
        },
        {
          "output_type": "stream",
          "name": "stdout",
          "text": [
            "{'ner': 0.00035431784333030337}\n"
          ]
        },
        {
          "output_type": "stream",
          "name": "stderr",
          "text": [
            " 19%|█▉        | 3/16 [00:00<00:00, 22.30it/s]"
          ]
        },
        {
          "output_type": "stream",
          "name": "stdout",
          "text": [
            "{'ner': 2.336913377293539e-16}\n",
            "{'ner': 3.1577012005862883e-15}\n",
            "{'ner': 6.524398335536885e-08}\n",
            "{'ner': 6.534150398015541e-08}\n",
            "{'ner': 6.879454262120377e-08}\n"
          ]
        },
        {
          "output_type": "stream",
          "name": "stderr",
          "text": [
            " 56%|█████▋    | 9/16 [00:00<00:00, 23.27it/s]"
          ]
        },
        {
          "output_type": "stream",
          "name": "stdout",
          "text": [
            "{'ner': 6.87945426212039e-08}\n",
            "{'ner': 6.880523234639475e-08}\n",
            "{'ner': 6.881878111299256e-08}\n",
            "{'ner': 6.886753909001135e-08}\n",
            "{'ner': 6.887006848685162e-08}\n"
          ]
        },
        {
          "output_type": "stream",
          "name": "stderr",
          "text": [
            "\r 75%|███████▌  | 12/16 [00:00<00:00, 23.15it/s]"
          ]
        },
        {
          "output_type": "stream",
          "name": "stdout",
          "text": [
            "{'ner': 7.16393368920247e-08}\n",
            "{'ner': 7.596402715449432e-08}\n",
            "{'ner': 7.596412517842009e-08}\n",
            "{'ner': 1.098419466156851e-07}\n"
          ]
        },
        {
          "output_type": "stream",
          "name": "stderr",
          "text": [
            "\r 94%|█████████▍| 15/16 [00:00<00:00, 23.14it/s]"
          ]
        },
        {
          "output_type": "stream",
          "name": "stdout",
          "text": [
            "{'ner': 1.098450081019183e-07}\n"
          ]
        },
        {
          "output_type": "stream",
          "name": "stderr",
          "text": [
            "\r100%|██████████| 16/16 [00:00<00:00, 22.65it/s]"
          ]
        },
        {
          "output_type": "stream",
          "name": "stdout",
          "text": [
            "{'ner': 1.1446681138430285e-07}\n"
          ]
        },
        {
          "output_type": "stream",
          "name": "stderr",
          "text": [
            "\n"
          ]
        }
      ]
    },
    {
      "cell_type": "code",
      "source": [
        "doc = nlp(\"I ordered from Swiggy\")\n",
        "print(\"Entities\", [(ent.text, ent.label_) for ent in doc.ents])"
      ],
      "metadata": {
        "colab": {
          "base_uri": "https://localhost:8080/"
        },
        "id": "0yvF9dYm5FFx",
        "outputId": "fc983c61-eb65-4463-8f26-7fab9da570f8"
      },
      "execution_count": null,
      "outputs": [
        {
          "output_type": "stream",
          "name": "stdout",
          "text": [
            "Entities [('Swiggy', 'ORG')]\n"
          ]
        }
      ]
    },
    {
      "cell_type": "code",
      "source": [
        "!python -m spacy info"
      ],
      "metadata": {
        "id": "q18DWr9v50S_",
        "outputId": "25e237a6-0bb5-4a24-ce23-1b8e67d3330e",
        "colab": {
          "base_uri": "https://localhost:8080/"
        }
      },
      "execution_count": null,
      "outputs": [
        {
          "output_type": "stream",
          "name": "stdout",
          "text": [
            "\u001b[1m\n",
            "============================== Info about spaCy ==============================\u001b[0m\n",
            "\n",
            "spaCy version    2.2.4                         \n",
            "Location         /usr/local/lib/python3.7/dist-packages/spacy\n",
            "Platform         Linux-5.4.144+-x86_64-with-Ubuntu-18.04-bionic\n",
            "Python version   3.7.12                        \n",
            "Models           en                            \n",
            "\n"
          ]
        }
      ]
    },
    {
      "cell_type": "code",
      "source": [
        ""
      ],
      "metadata": {
        "id": "VLeb8Uug7IAs"
      },
      "execution_count": null,
      "outputs": []
    }
  ]
}