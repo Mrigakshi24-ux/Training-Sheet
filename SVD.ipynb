{
  "nbformat": 4,
  "nbformat_minor": 0,
  "metadata": {
    "colab": {
      "name": "SVD",
      "provenance": [],
      "authorship_tag": "ABX9TyN9hkgypH1w7IY0Sdi9ZFWa",
      "include_colab_link": true
    },
    "kernelspec": {
      "name": "python3",
      "display_name": "Python 3"
    },
    "language_info": {
      "name": "python"
    }
  },
  "cells": [
    {
      "cell_type": "markdown",
      "metadata": {
        "id": "view-in-github",
        "colab_type": "text"
      },
      "source": [
        "<a href=\"https://colab.research.google.com/github/Mrigakshi24-ux/Training-Sheet/blob/main/SVD.ipynb\" target=\"_parent\"><img src=\"https://colab.research.google.com/assets/colab-badge.svg\" alt=\"Open In Colab\"/></a>"
      ]
    },
    {
      "cell_type": "markdown",
      "source": [
        "##Implementing SVD and reconstructing original matrix"
      ],
      "metadata": {
        "id": "Dy00BHsHr6gg"
      }
    },
    {
      "cell_type": "code",
      "execution_count": 7,
      "metadata": {
        "id": "8EMTQ_dhnrc2"
      },
      "outputs": [],
      "source": [
        "import numpy as np\n",
        "from numpy import array\n",
        "from scipy.linalg import svd\n",
        "from numpy import dot"
      ]
    },
    {
      "cell_type": "code",
      "source": [
        "A = array([[4, 5], [7, 8], [10, 11]])"
      ],
      "metadata": {
        "id": "YLQXpsFMnwUc"
      },
      "execution_count": 20,
      "outputs": []
    },
    {
      "cell_type": "code",
      "source": [
        "# calculating U, S, V_t\n",
        "U, S, V_t = svd(A)\n",
        "print(U)\n",
        "print(S)\n",
        "print(V_t)"
      ],
      "metadata": {
        "colab": {
          "base_uri": "https://localhost:8080/"
        },
        "id": "D8FCOCWcoAtD",
        "outputId": "e7865039-80d7-4b15-aa12-27a427cdeaa8"
      },
      "execution_count": 21,
      "outputs": [
        {
          "output_type": "stream",
          "name": "stdout",
          "text": [
            "[[-0.33029839  0.85102074  0.40824829]\n",
            " [-0.54903267  0.17859579 -0.81649658]\n",
            " [-0.76776695 -0.49382916  0.40824829]]\n",
            "[19.36119688  0.37954623]\n",
            "[[-0.66329018 -0.7483623 ]\n",
            " [-0.7483623   0.66329018]]\n"
          ]
        }
      ]
    },
    {
      "cell_type": "code",
      "source": [
        "# Reconstructing the A matrix from U, S, V_t\n",
        "# S should be converted into a diagonal vector, but this new S matrix won't fit the multiplication\n",
        "# we add a sigma matrix m*n and populate n*n values with S matrix\n",
        "\n",
        "print(A.shape, U.shape, S.shape, V_t.shape, np.diag(S).shape)\n",
        "\n",
        "# U(m*m).Sigma(m*n).V_t(n*n)\n",
        "\n",
        "# sigma\n",
        "sigma = np.zeros((A.shape[0], A.shape[1]))\n",
        "\n",
        "# populate with S matrix, this complication only exist when not a square matrix\n",
        "sigma[:A.shape[1], :A.shape[1]] = np.diag(S)   # A.shape[1] = n\n",
        "\n",
        "# multiply\n",
        "A = U.dot(sigma.dot(V_t))"
      ],
      "metadata": {
        "colab": {
          "base_uri": "https://localhost:8080/"
        },
        "id": "S6HbHxR4oJ-0",
        "outputId": "66651076-be4b-40ed-d664-7c4cbed09454"
      },
      "execution_count": 23,
      "outputs": [
        {
          "output_type": "stream",
          "name": "stdout",
          "text": [
            "(3, 2) (3, 3) (2,) (2, 2) (2, 2)\n"
          ]
        }
      ]
    },
    {
      "cell_type": "code",
      "source": [
        "A # same as the input array."
      ],
      "metadata": {
        "colab": {
          "base_uri": "https://localhost:8080/"
        },
        "id": "AfnyP7arqwAV",
        "outputId": "1408666e-1eb6-4136-b9fa-867a962d02c1"
      },
      "execution_count": 11,
      "outputs": [
        {
          "output_type": "execute_result",
          "data": {
            "text/plain": [
              "array([[ 4.,  5.],\n",
              "       [ 7.,  8.],\n",
              "       [10., 11.]])"
            ]
          },
          "metadata": {},
          "execution_count": 11
        }
      ]
    },
    {
      "cell_type": "markdown",
      "source": [
        "##SVD for dimensionality reduction"
      ],
      "metadata": {
        "id": "4sJ1z0NYsDdF"
      }
    },
    {
      "cell_type": "code",
      "source": [
        "k = 3\n",
        "A = array([[4, 5, 6, 7], [7, 8, 9, 10], [10, 11, 12, 13]])\n",
        "U, S, V_t = svd(A)\n",
        "print(A.shape, U.shape, S.shape, V_t.shape)\n",
        "sigma = np.zeros((A.shape[0], A.shape[1]))\n",
        "sigma[:S.shape[0], :S.shape[0]] = np.diag(S) \n",
        "\n",
        "# selecting k columns\n",
        "sigma = sigma[:,:k]\n",
        "\n",
        "# selecting k rows\n",
        "V_t = V_t[:k, :]\n",
        "\n",
        "# mutiply\n",
        "B = U.dot(sigma.dot(V_t))\n",
        "B"
      ],
      "metadata": {
        "colab": {
          "base_uri": "https://localhost:8080/"
        },
        "id": "95xLQXO0q_4Z",
        "outputId": "275b9e98-bdae-4dd2-a0bd-48dbe615b8c0"
      },
      "execution_count": 24,
      "outputs": [
        {
          "output_type": "stream",
          "name": "stdout",
          "text": [
            "(3, 4) (3, 3) (3,) (4, 4)\n"
          ]
        },
        {
          "output_type": "execute_result",
          "data": {
            "text/plain": [
              "array([[ 4.,  5.,  6.,  7.],\n",
              "       [ 7.,  8.,  9., 10.],\n",
              "       [10., 11., 12., 13.]])"
            ]
          },
          "metadata": {},
          "execution_count": 24
        }
      ]
    },
    {
      "cell_type": "code",
      "source": [
        ""
      ],
      "metadata": {
        "id": "rYr9a_jotpAk"
      },
      "execution_count": null,
      "outputs": []
    }
  ]
}