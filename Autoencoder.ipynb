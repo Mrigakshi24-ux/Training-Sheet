{
  "nbformat": 4,
  "nbformat_minor": 0,
  "metadata": {
    "colab": {
      "name": "Autoencoder",
      "provenance": [],
      "authorship_tag": "ABX9TyM+V44XRo6UgRVGimWvxPEl",
      "include_colab_link": true
    },
    "kernelspec": {
      "name": "python3",
      "display_name": "Python 3"
    },
    "language_info": {
      "name": "python"
    }
  },
  "cells": [
    {
      "cell_type": "markdown",
      "metadata": {
        "id": "view-in-github",
        "colab_type": "text"
      },
      "source": [
        "<a href=\"https://colab.research.google.com/github/Mrigakshi24-ux/Training-Sheet/blob/main/Autoencoder.ipynb\" target=\"_parent\"><img src=\"https://colab.research.google.com/assets/colab-badge.svg\" alt=\"Open In Colab\"/></a>"
      ]
    },
    {
      "cell_type": "code",
      "execution_count": null,
      "metadata": {
        "id": "_Do0I30dwo0E"
      },
      "outputs": [],
      "source": [
        "from keras.datasets import mnist\n",
        "from keras.layers import Dense, Conv2D, MaxPooling2D, UpSampling2D\n",
        "from keras import Input, Model, Sequential\n",
        "import matplotlib.pyplot as plt\n",
        "import numpy as np"
      ]
    },
    {
      "cell_type": "code",
      "source": [
        "# working on the mnist dataset\n",
        "(x_train, y_train), (x_test, y_test) = mnist.load_data()"
      ],
      "metadata": {
        "colab": {
          "base_uri": "https://localhost:8080/"
        },
        "id": "JQs4DgFP2IjS",
        "outputId": "272827c3-8602-4930-ab33-b86e4bb176d9"
      },
      "execution_count": null,
      "outputs": [
        {
          "output_type": "stream",
          "name": "stdout",
          "text": [
            "Downloading data from https://storage.googleapis.com/tensorflow/tf-keras-datasets/mnist.npz\n",
            "11493376/11490434 [==============================] - 0s 0us/step\n",
            "11501568/11490434 [==============================] - 0s 0us/step\n"
          ]
        }
      ]
    },
    {
      "cell_type": "code",
      "source": [
        "# normalization\n",
        "x_train = x_train.astype('float32') / 255.\n",
        "x_test = x_test.astype('float32') / 255.\n",
        "x_train.shape, x_test.shape"
      ],
      "metadata": {
        "colab": {
          "base_uri": "https://localhost:8080/"
        },
        "id": "E4aSqxTR2PtD",
        "outputId": "51fb32ee-8f9c-4b1f-8c68-dfb2028b3fb6"
      },
      "execution_count": null,
      "outputs": [
        {
          "output_type": "execute_result",
          "data": {
            "text/plain": [
              "((60000, 28, 28), (10000, 28, 28))"
            ]
          },
          "metadata": {},
          "execution_count": 4
        }
      ]
    },
    {
      "cell_type": "code",
      "source": [
        "# 3D to 2D\n",
        "x_train = x_train.reshape((len(x_train), np.prod(x_train.shape[1:])))\n",
        "x_test = x_test.reshape((len(x_test), np.prod(x_test.shape[1:])))\n",
        "x_train.shape, x_test.shape"
      ],
      "metadata": {
        "colab": {
          "base_uri": "https://localhost:8080/"
        },
        "id": "J_f6Zrf02kvK",
        "outputId": "5f0b6431-8ed7-4b3e-f92e-e6e6842678c0"
      },
      "execution_count": null,
      "outputs": [
        {
          "output_type": "execute_result",
          "data": {
            "text/plain": [
              "((60000, 784), (10000, 784))"
            ]
          },
          "metadata": {},
          "execution_count": 5
        }
      ]
    },
    {
      "cell_type": "code",
      "source": [
        "# random sample\n",
        "plt.imshow(x_train[5].reshape(28,28))"
      ],
      "metadata": {
        "colab": {
          "base_uri": "https://localhost:8080/",
          "height": 282
        },
        "id": "44c32zj720-p",
        "outputId": "742c789f-e68e-4bb9-f09c-e6b86eb5450a"
      },
      "execution_count": null,
      "outputs": [
        {
          "output_type": "execute_result",
          "data": {
            "text/plain": [
              "<matplotlib.image.AxesImage at 0x7eff34c0db50>"
            ]
          },
          "metadata": {},
          "execution_count": 9
        },
        {
          "output_type": "display_data",
          "data": {
            "image/png": "[encoded data removed]",
            "text/plain": [
              "<Figure size 432x288 with 1 Axes>"
            ]
          },
          "metadata": {
            "needs_background": "light"
          }
        }
      ]
    },
    {
      "cell_type": "code",
      "source": [
        "# the lesser the dimension of the latent space representation, more the compression\n",
        "\n",
        "# images of size 28*28\n",
        "input_size = 784\n",
        "\n",
        "# hidden layer\n",
        "hidden_size = 128\n",
        "\n",
        "# latent space representation\n",
        "code_size = 32\n",
        "\n",
        "# encoder \n",
        "input_img = Input(shape = (input_size, ))\n",
        "hidden_1 = Dense(hidden_size, activation = 'relu')(input_img)\n",
        "code_layer = Dense(code_size, activation = 'relu')(hidden_1)\n",
        "\n",
        "# decoder\n",
        "hidden_2 = Dense(hidden_size, activation = 'relu')(code_layer)\n",
        "output_img = Dense(input_size, activation = 'sigmoid')(hidden_2)"
      ],
      "metadata": {
        "id": "HyHIGs5dwtg_"
      },
      "execution_count": null,
      "outputs": []
    },
    {
      "cell_type": "code",
      "source": [
        "# Model\n",
        "autoencoder = Model(input_img, output_img)"
      ],
      "metadata": {
        "id": "f2uRFZGx1-Rv"
      },
      "execution_count": null,
      "outputs": []
    },
    {
      "cell_type": "code",
      "source": [
        "autoencoder.compile(optimizer='adam', loss='binary_crossentropy')"
      ],
      "metadata": {
        "id": "0qRzmDpK2Ayl"
      },
      "execution_count": null,
      "outputs": []
    },
    {
      "cell_type": "code",
      "source": [
        "# Here x and y are same because input and output should be same\n",
        "autoencoder.fit(x_train, x_train, epochs=20, batch_size=256, validation_data=(x_test, x_test))"
      ],
      "metadata": {
        "colab": {
          "base_uri": "https://localhost:8080/"
        },
        "id": "7nr1vRCN2A4p",
        "outputId": "b87a9599-5e6f-46d3-810d-cf7c9bb2393b"
      },
      "execution_count": null,
      "outputs": [
        {
          "output_type": "stream",
          "name": "stdout",
          "text": [
            "Epoch 1/20\n",
            "235/235 [==============================] - 5s 18ms/step - loss: 0.2331 - val_loss: 0.1541\n",
            "Epoch 2/20\n",
            "235/235 [==============================] - 4s 17ms/step - loss: 0.1367 - val_loss: 0.1220\n",
            "Epoch 3/20\n",
            "235/235 [==============================] - 4s 17ms/step - loss: 0.1171 - val_loss: 0.1104\n",
            "Epoch 4/20\n",
            "235/235 [==============================] - 4s 17ms/step - loss: 0.1083 - val_loss: 0.1040\n",
            "Epoch 5/20\n",
            "235/235 [==============================] - 4s 17ms/step - loss: 0.1036 - val_loss: 0.1002\n",
            "Epoch 6/20\n",
            "235/235 [==============================] - 4s 17ms/step - loss: 0.1003 - val_loss: 0.0978\n",
            "Epoch 7/20\n",
            "235/235 [==============================] - 4s 17ms/step - loss: 0.0979 - val_loss: 0.0960\n",
            "Epoch 8/20\n",
            "235/235 [==============================] - 4s 17ms/step - loss: 0.0960 - val_loss: 0.0941\n",
            "Epoch 9/20\n",
            "235/235 [==============================] - 4s 17ms/step - loss: 0.0945 - val_loss: 0.0927\n",
            "Epoch 10/20\n",
            "235/235 [==============================] - 4s 17ms/step - loss: 0.0935 - val_loss: 0.0919\n",
            "Epoch 11/20\n",
            "235/235 [==============================] - 4s 16ms/step - loss: 0.0926 - val_loss: 0.0911\n",
            "Epoch 12/20\n",
            "235/235 [==============================] - 4s 17ms/step - loss: 0.0919 - val_loss: 0.0906\n",
            "Epoch 13/20\n",
            "235/235 [==============================] - 4s 17ms/step - loss: 0.0912 - val_loss: 0.0901\n",
            "Epoch 14/20\n",
            "235/235 [==============================] - 4s 17ms/step - loss: 0.0906 - val_loss: 0.0895\n",
            "Epoch 15/20\n",
            "235/235 [==============================] - 4s 16ms/step - loss: 0.0901 - val_loss: 0.0888\n",
            "Epoch 16/20\n",
            "235/235 [==============================] - 4s 16ms/step - loss: 0.0896 - val_loss: 0.0884\n",
            "Epoch 17/20\n",
            "235/235 [==============================] - 4s 17ms/step - loss: 0.0891 - val_loss: 0.0879\n",
            "Epoch 18/20\n",
            "235/235 [==============================] - 4s 17ms/step - loss: 0.0886 - val_loss: 0.0878\n",
            "Epoch 19/20\n",
            "235/235 [==============================] - 4s 17ms/step - loss: 0.0883 - val_loss: 0.0872\n",
            "Epoch 20/20\n",
            "235/235 [==============================] - 4s 17ms/step - loss: 0.0879 - val_loss: 0.0867\n"
          ]
        },
        {
          "output_type": "execute_result",
          "data": {
            "text/plain": [
              "<keras.callbacks.History at 0x7eff309b9c90>"
            ]
          },
          "metadata": {},
          "execution_count": 13
        }
      ]
    },
    {
      "cell_type": "code",
      "source": [
        "# predicting on test data\n",
        "new_output_img = autoencoder.predict(x_test)\n",
        "\n",
        "plt.figure(figsize=(20, 4))\n",
        "\n",
        "for i in range(5):\n",
        "\n",
        "    # Display original\n",
        "    ax = plt.subplot(2, 5, i + 1)\n",
        "    plt.imshow(x_test[i].reshape(28, 28))\n",
        "    plt.gray()\n",
        "\n",
        "    # to disolve the ticks on both the axis\n",
        "    ax.get_xaxis().set_visible(False)\n",
        "    ax.get_yaxis().set_visible(False)\n",
        "\n",
        "    # Display reconstruction\n",
        "    ax = plt.subplot(2, 5, i + 1 + 5)\n",
        "    plt.imshow(new_output_img[i].reshape(28, 28))\n",
        "    plt.gray()\n",
        "    ax.get_xaxis().set_visible(False)\n",
        "    ax.get_yaxis().set_visible(False)\n",
        "\n",
        "plt.show()"
      ],
      "metadata": {
        "colab": {
          "base_uri": "https://localhost:8080/",
          "height": 252
        },
        "id": "3CTeXtdG3MaW",
        "outputId": "52d8f78e-414e-4e22-9184-f662e1f3763c"
      },
      "execution_count": null,
      "outputs": [
        {
          "output_type": "display_data",
          "data": {
            "image/png": "[encoded data removed]",
            "text/plain": [
              "<Figure size 1440x288 with 10 Axes>"
            ]
          },
          "metadata": {
            "needs_background": "light"
          }
        }
      ]
    },
    {
      "cell_type": "markdown",
      "source": [
        "#Adding Noise and Using Autoencoders"
      ],
      "metadata": {
        "id": "trKjo3k8YWyP"
      }
    },
    {
      "cell_type": "code",
      "source": [
        "noise_factor = 0.4\n",
        "x_train_noisy = x_train + noise_factor * np.random.normal(0, 1, size=x_train.shape) \n",
        "x_test_noisy = x_test + noise_factor * np.random.normal(0, 1, size=x_test.shape)\n",
        "\n",
        "# to reshape the train and test into 3D\n",
        "x_train_noisy = np.clip(x_train_noisy, 0., 1.)\n",
        "x_test_noisy = np.clip(x_test_noisy, 0., 1.)"
      ],
      "metadata": {
        "id": "8mCvLQ_85iDF"
      },
      "execution_count": null,
      "outputs": []
    },
    {
      "cell_type": "code",
      "source": [
        "plt.figure(figsize=(20, 2))\n",
        "\n",
        "for i in range(1, 5 + 1):\n",
        "    ax = plt.subplot(1, 5, i)\n",
        "    plt.imshow(x_test_noisy[i].reshape(28, 28))    \n",
        "    plt.gray()\n",
        "\n",
        "    # settings the markings on axis to false\n",
        "    ax.get_xaxis().set_visible(False)\n",
        "    ax.get_yaxis().set_visible(False)\n",
        "\n",
        "plt.show()"
      ],
      "metadata": {
        "colab": {
          "base_uri": "https://localhost:8080/",
          "height": 143
        },
        "id": "h0fsSSoB8aIQ",
        "outputId": "cd962492-2eec-47fd-fcce-8ed413c504e3"
      },
      "execution_count": null,
      "outputs": [
        {
          "output_type": "display_data",
          "data": {
            "image/png": "[encoded data removed]",
            "text/plain": [
              "<Figure size 1440x144 with 5 Axes>"
            ]
          },
          "metadata": {
            "needs_background": "light"
          }
        }
      ]
    },
    {
      "cell_type": "code",
      "source": [
        "# reshaping the input for CNN\n",
        "x_train = np.reshape(x_train, (len(x_train), 28, 28, 1))\n",
        "x_test = np.reshape(x_test, (len(x_test), 28, 28, 1))"
      ],
      "metadata": {
        "id": "XATAC_O_aY5z"
      },
      "execution_count": null,
      "outputs": []
    },
    {
      "cell_type": "code",
      "source": [
        "model = Sequential()\n",
        "# encoder\n",
        "model.add(Conv2D(35, 3, activation= 'relu', padding='same', input_shape = (28,28,1)))\n",
        "# padding = same so that output has same size as output\n",
        "model.add(MaxPooling2D(2, padding= 'same'))\n",
        "model.add(Conv2D(25, 3, activation= 'relu', padding='same'))\n",
        "model.add(MaxPooling2D(2, padding= 'same'))\n",
        "\n",
        "# decoder\n",
        "model.add(Conv2D(25, 3, activation= 'relu', padding='same'))\n",
        "# upsampling to scale up the image\n",
        "model.add(UpSampling2D(2))\n",
        "model.add(Conv2D(35, 3, activation= 'relu', padding='same'))\n",
        "model.add(UpSampling2D(2))\n",
        "\n",
        "# output layer\n",
        "model.add(Conv2D(1,3,activation='sigmoid', padding= 'same'))"
      ],
      "metadata": {
        "id": "YUFxCvRj8onA"
      },
      "execution_count": null,
      "outputs": []
    },
    {
      "cell_type": "code",
      "source": [
        "model.compile(optimizer= 'adam', loss = 'binary_crossentropy')"
      ],
      "metadata": {
        "id": "IIVnPhYgZK3d"
      },
      "execution_count": null,
      "outputs": []
    },
    {
      "cell_type": "code",
      "source": [
        "model.fit(x_train_noisy, x_train, epochs=15, batch_size=128, validation_data=(x_test_noisy, x_test))"
      ],
      "metadata": {
        "colab": {
          "base_uri": "https://localhost:8080/"
        },
        "id": "FNJm-yQ-ZV_i",
        "outputId": "ed61e4de-bec0-403b-9d3d-28e32ea3b558"
      },
      "execution_count": null,
      "outputs": [
        {
          "output_type": "stream",
          "name": "stdout",
          "text": [
            "Epoch 1/15\n",
            "469/469 [==============================] - 185s 394ms/step - loss: 0.1641 - val_loss: 0.1067\n",
            "Epoch 2/15\n",
            "469/469 [==============================] - 181s 387ms/step - loss: 0.1031 - val_loss: 0.0992\n",
            "Epoch 3/15\n",
            "469/469 [==============================] - 181s 385ms/step - loss: 0.0980 - val_loss: 0.0954\n",
            "Epoch 4/15\n",
            "469/469 [==============================] - 181s 385ms/step - loss: 0.0951 - val_loss: 0.0930\n",
            "Epoch 5/15\n",
            "469/469 [==============================] - 177s 378ms/step - loss: 0.0931 - val_loss: 0.0915\n",
            "Epoch 6/15\n",
            "469/469 [==============================] - 177s 378ms/step - loss: 0.0917 - val_loss: 0.0904\n",
            "Epoch 7/15\n",
            "469/469 [==============================] - 178s 379ms/step - loss: 0.0908 - val_loss: 0.0902\n",
            "Epoch 8/15\n",
            "469/469 [==============================] - 178s 380ms/step - loss: 0.0901 - val_loss: 0.0892\n",
            "Epoch 9/15\n",
            "469/469 [==============================] - 176s 375ms/step - loss: 0.0895 - val_loss: 0.0885\n",
            "Epoch 10/15\n",
            "469/469 [==============================] - 177s 378ms/step - loss: 0.0890 - val_loss: 0.0882\n",
            "Epoch 11/15\n",
            "469/469 [==============================] - 177s 377ms/step - loss: 0.0885 - val_loss: 0.0879\n",
            "Epoch 12/15\n",
            "469/469 [==============================] - 178s 379ms/step - loss: 0.0882 - val_loss: 0.0874\n",
            "Epoch 13/15\n",
            "469/469 [==============================] - 176s 376ms/step - loss: 0.0879 - val_loss: 0.0878\n",
            "Epoch 14/15\n",
            "469/469 [==============================] - 175s 372ms/step - loss: 0.0876 - val_loss: 0.0871\n",
            "Epoch 15/15\n",
            "469/469 [==============================] - 175s 374ms/step - loss: 0.0874 - val_loss: 0.0871\n"
          ]
        },
        {
          "output_type": "execute_result",
          "data": {
            "text/plain": [
              "<keras.callbacks.History at 0x7eff3091ce90>"
            ]
          },
          "metadata": {},
          "execution_count": 50
        }
      ]
    },
    {
      "cell_type": "code",
      "source": [
        "# prediction on test data\n",
        "pred = model.predict(x_test_noisy)\n",
        "\n",
        "plt.figure(figsize=(20, 4))\n",
        "\n",
        "for i in range(5):\n",
        "  \n",
        "    # Display original\n",
        "    ax = plt.subplot(2, 5, i + 1)\n",
        "    plt.imshow(x_test_noisy[i].reshape(28, 28))\n",
        "    plt.gray()\n",
        "    ax.get_xaxis().set_visible(False)\n",
        "    ax.get_yaxis().set_visible(False)\n",
        "\n",
        "    # Display reconstruction\n",
        "    ax = plt.subplot(2, 5, i + 1 + 5)\n",
        "    plt.imshow(pred[i].reshape(28, 28))\n",
        "    plt.gray()\n",
        "    ax.get_xaxis().set_visible(False)\n",
        "    ax.get_yaxis().set_visible(False)\n",
        "\n",
        "plt.show()"
      ],
      "metadata": {
        "colab": {
          "base_uri": "https://localhost:8080/",
          "height": 252
        },
        "id": "bQdMSnqCZiDr",
        "outputId": "88457e3a-e639-4b9a-9226-165693946151"
      },
      "execution_count": null,
      "outputs": [
        {
          "output_type": "display_data",
          "data": {
            "image/png": "[encoded data removed]",
            "text/plain": [
              "<Figure size 1440x288 with 10 Axes>"
            ]
          },
          "metadata": {
            "needs_background": "light"
          }
        }
      ]
    },
    {
      "cell_type": "code",
      "source": [
        ""
      ],
      "metadata": {
        "id": "WqJySL-GaAU_"
      },
      "execution_count": null,
      "outputs": []
    },
    {
      "cell_type": "code",
      "source": [
        ""
      ],
      "metadata": {
        "id": "3oXtX4krl9Gz"
      },
      "execution_count": null,
      "outputs": []
    }
  ]
}